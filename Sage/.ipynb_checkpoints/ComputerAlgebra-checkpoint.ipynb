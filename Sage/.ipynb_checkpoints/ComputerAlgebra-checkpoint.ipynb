{
 "cells": [
  {
   "cell_type": "code",
   "execution_count": 1,
   "metadata": {},
   "outputs": [],
   "source": [
    "%display latex"
   ]
  },
  {
   "cell_type": "markdown",
   "metadata": {},
   "source": [
    "<h1><p style=\"color:#16A085\"> Álgebra Computacional </p style></h1>\n",
    "<h2> Índice </h2>\n",
    "\n",
    "- 1. Algoritmo de Euclides\n",
    "    - 1.1 Algoritmo de Euclides para un Dominio Euclídeo\n",
    "    - 1.2 Algoritmo de Euclides extendido para un Dominio Euclídeo\n",
    "    - 1.3 Ejemplos en $\\mathbb{Z}$\n",
    "    - 1.4 Ejemplos en $\\mathbb{Q}[x]$\n",
    "- 2. Teorema chino del resto\n",
    "    - 2.1 Ejemplos en $\\mathbb{Z}$\n",
    "- 3. MCD en DFU\n",
    "    - 3.1 Ejemplos en $\\mathbb{Z}[x]$\n",
    "- 4. Inverso de un elemento en un cuerpo finito\n",
    "    - 4.1 Ejemplos en $\\mathbb{Z}_p$\n",
    "- 5. Test de irreducibilidad de un polinomio en $\\mathbb{F}_q[x]$\n",
    "    - 5.1 Ejemplos en $\\mathbb{F}(7^2)[x]$\n",
    "- 6. Logaritmo discreto en cuerpos $\\mathbb{F}_q[x]/(f(x))$\n",
    "    - 6.1 Ejemplos en $\\mathbb{F}(3^6)[x]/(bx + 2b)$\n",
    "- 7. Algoritmo de factorización de un polinomio en cuerpo finito\n",
    "    - 7.1 Equal degree-splitting\n",
    "    - 7.2 Equal degree-factorization\n",
    "    - 7.3 Algoritmo de factorización de un polinomio en cuerpo finito\n",
    "    - 7.4 Ejemplos en $\\mathbb{F}(3)[x]$\n",
    "- 8. Algoritmo de factorización de Berlekamp en cuerpo finito\n",
    "    - 8.1 Ejemplos en $\\mathbb{F}(7)[x]$\n",
    "- 9. Algoritmos de factorización en $\\mathbb{Z}[x]$\n",
    "    - 9.1\n",
    "- 10. Algoritmo de primalidad de *AKS*\n",
    "    - 10.1 Ejemplos"
   ]
  },
  {
   "cell_type": "markdown",
   "metadata": {},
   "source": [
    "# 1. Algoritmo de Euclides"
   ]
  },
  {
   "cell_type": "markdown",
   "metadata": {},
   "source": [
    "# 1.1 Algoritmo de Euclides para un Dominio Euclídeo"
   ]
  },
  {
   "cell_type": "code",
   "execution_count": 2,
   "metadata": {},
   "outputs": [],
   "source": [
    "def euclides(a, b, mod):\n",
    "    if (b == 0):\n",
    "        return a\n",
    "    else:\n",
    "        return euclides (b, (mod(a, b)), mod)"
   ]
  },
  {
   "cell_type": "markdown",
   "metadata": {},
   "source": [
    "## 1.2 Algoritmo de Euclides extendido para un Dominio Euclídeo"
   ]
  },
  {
   "cell_type": "code",
   "execution_count": 3,
   "metadata": {},
   "outputs": [],
   "source": [
    "def extendedEuclides(a, b, div_mod):\n",
    "    if (b == 0):\n",
    "        return a, 1, 0 \n",
    "    else:\n",
    "        q, r = div_mod(a, b)\n",
    "        gcd, d, e = extendedEuclides(b, r, div_mod)\n",
    "        return gcd, e, (d -q * e)"
   ]
  },
  {
   "cell_type": "markdown",
   "metadata": {},
   "source": [
    "## 1.3 Ejemplos en $\\mathbb{Z}$"
   ]
  },
  {
   "cell_type": "code",
   "execution_count": 4,
   "metadata": {
    "scrolled": true
   },
   "outputs": [
    {
     "name": "stdout",
     "output_type": "stream",
     "text": [
      "11\n",
      "(11, 1, -2)\n"
     ]
    }
   ],
   "source": [
    "def mod_int(a, b): return a % b\n",
    "def div_mod_int(a, b): return a // b, a % b\n",
    "\n",
    "print(euclides(55, 22, mod_int))\n",
    "print(extendedEuclides(55, 22, div_mod_int))"
   ]
  },
  {
   "cell_type": "markdown",
   "metadata": {},
   "source": [
    "## 1.4 Ejemplos en $\\mathbb{Q}[x]$"
   ]
  },
  {
   "cell_type": "code",
   "execution_count": 5,
   "metadata": {},
   "outputs": [
    {
     "name": "stdout",
     "output_type": "stream",
     "text": [
      "2*x + 2\n",
      "(2*x + 2, 1, -1)\n",
      "x^3 + 2/3*x^2 + x + 2/3\n"
     ]
    }
   ],
   "source": [
    "def div_mod_pol(a, b): return a.quo_rem(b);\n",
    "def mod_pol(a, b): _, r =  div_mod_pol(a, b); return r\n",
    "    \n",
    "R.<x> = QQ[]\n",
    "\n",
    "a = (x^2 +2*x + 1)\n",
    "b =  (x^2 - 1)\n",
    "\n",
    "print(euclides(a, b, mod_pol))\n",
    "print(extendedEuclides(a, b, div_mod_pol))\n",
    "\n",
    "c = (x+2/3)*(x-3/2)*(x^2+1)\n",
    "d = (x+2/3)*(x+2/3)*(x^2+1)\n",
    "print(euclides(c, d, mod_pol)).monic()"
   ]
  },
  {
   "cell_type": "markdown",
   "metadata": {},
   "source": [
    "# 2. Teorema chino del resto"
   ]
  },
  {
   "cell_type": "code",
   "execution_count": 6,
   "metadata": {},
   "outputs": [],
   "source": [
    "def chineseRemainder(coprimes, elems, div_mod, rem):\n",
    "    m = 1\n",
    "    for mi in coprimes:\n",
    "        m = m * mi\n",
    "    result = 0;\n",
    "    for i in range(len(coprimes)):\n",
    "        n = m / coprimes[i]\n",
    "        _, a, _ = extendedEuclides(n, coprimes[i], div_mod)\n",
    "        c = rem((a * elems[i]), coprimes[i])\n",
    "        result = c * n + result\n",
    "    return result"
   ]
  },
  {
   "cell_type": "markdown",
   "metadata": {},
   "source": [
    "## 2.1 Ejemplos en $\\mathbb{Z}$"
   ]
  },
  {
   "cell_type": "code",
   "execution_count": 7,
   "metadata": {},
   "outputs": [
    {
     "data": {
      "text/html": [
       "<html><script type=\"math/tex; mode=display\">\\newcommand{\\Bold}[1]{\\mathbf{#1}}40</script></html>"
      ],
      "text/plain": [
       "40"
      ]
     },
     "execution_count": 7,
     "metadata": {},
     "output_type": "execute_result"
    }
   ],
   "source": [
    "def rem(a, b):\n",
    "    r = abs(a) % abs(b)\n",
    "    return r if a >= 0 else -r\n",
    "chineseRemainder([3,5,7],[4,5,33], div_mod_int, rem)"
   ]
  },
  {
   "cell_type": "markdown",
   "metadata": {},
   "source": [
    "# 3. MCD en DFU"
   ]
  },
  {
   "cell_type": "code",
   "execution_count": 8,
   "metadata": {},
   "outputs": [],
   "source": [
    "def gcdDFU(a, b):\n",
    "    if a.degree() < b.degree():\n",
    "        return mcdDFU(b,a)\n",
    "    while b != 0:\n",
    "        q,r = (b.leading_coefficient()**(a.degree() - b.degree() + 1) * a).quo_rem(b)\n",
    "        a = b\n",
    "        b = r\n",
    "    return a"
   ]
  },
  {
   "cell_type": "markdown",
   "metadata": {},
   "source": [
    "## 3.1 Ejemplos en $\\mathbb{Z}[x]$"
   ]
  },
  {
   "cell_type": "code",
   "execution_count": 9,
   "metadata": {},
   "outputs": [
    {
     "data": {
      "text/html": [
       "<html><script type=\"math/tex; mode=display\">\\newcommand{\\Bold}[1]{\\mathbf{#1}}x + 1</script></html>"
      ],
      "text/plain": [
       "x + 1"
      ]
     },
     "execution_count": 9,
     "metadata": {},
     "output_type": "execute_result"
    }
   ],
   "source": [
    "R.<x> = ZZ[]\n",
    "a = (x + 1)**2\n",
    "b = (x + 1)*(x - 1)\n",
    "gcdDFU(a, b).monic()"
   ]
  },
  {
   "cell_type": "markdown",
   "metadata": {},
   "source": [
    "# 4. Inverso de un elemento en un cuerpo finito"
   ]
  },
  {
   "cell_type": "code",
   "execution_count": 10,
   "metadata": {},
   "outputs": [],
   "source": [
    "def inverseFiniteField(a, field, div_mod):\n",
    "    _, _, b = extendedEuclides(field.cardinality(), a, div_mod)\n",
    "    return field(b)"
   ]
  },
  {
   "cell_type": "markdown",
   "metadata": {},
   "source": [
    "## 4.1 Ejemplos en $\\mathbb{Z}_p$"
   ]
  },
  {
   "cell_type": "code",
   "execution_count": 11,
   "metadata": {},
   "outputs": [
    {
     "name": "stdout",
     "output_type": "stream",
     "text": [
      "5\n",
      "20\n",
      "52\n"
     ]
    }
   ],
   "source": [
    "Z7 = Integers(7)\n",
    "a = 3\n",
    "print(inverseFiniteField(a, Z7, div_mod_int))\n",
    "\n",
    "Z31 = Integers(31)\n",
    "b = 14\n",
    "print(inverseFiniteField(b, Z31, div_mod_int))\n",
    "\n",
    "Z61 = Integers(61)\n",
    "c = 27\n",
    "print(inverseFiniteField(c, Z61, div_mod_int))"
   ]
  },
  {
   "cell_type": "markdown",
   "metadata": {},
   "source": [
    "# 5. Test de irreducibilidad de un polinomio en $\\mathbb{F}_q[x]$"
   ]
  },
  {
   "cell_type": "code",
   "execution_count": 12,
   "metadata": {},
   "outputs": [],
   "source": [
    "def fast_exp_mod(b,e,m):\n",
    "#Devuelve b^e mod m.\n",
    "    r = 1\n",
    "    b = b % m\n",
    "    while e > 0:\n",
    "        if e % 2 == 1:\n",
    "            r = (r * b) % m\n",
    "        e = e // 2\n",
    "        b  = (b * b) % m\n",
    "    return r \n",
    "\n",
    "def irreducibility_test(f, q):\n",
    "    h = (x) % f\n",
    "    l = f.degree()\n",
    "    for k in range(1, l // 2 + 1):\n",
    "        h = fast_exp_mod(h, q, f)\n",
    "        if gcd(h - x, f) != 1: return False\n",
    "    return True"
   ]
  },
  {
   "cell_type": "markdown",
   "metadata": {},
   "source": [
    "## 5.1 Ejemplos en $\\mathbb{F}(7^2)[x]$"
   ]
  },
  {
   "cell_type": "code",
   "execution_count": 13,
   "metadata": {},
   "outputs": [
    {
     "name": "stdout",
     "output_type": "stream",
     "text": [
      "El polinomio  x^21 + x^2 + 1  es irreducible en F49[x]?:  False .\n",
      "El polinomio  2*z*x^6 + (2*z + 2)*x^5 + (3*z + 1)*x^4 + (z + 2)*x^3 + (2*z + 1)*x^2 + 4*z*x + 2*z + 1  es irreducible en F49[x]?:  False .\n"
     ]
    }
   ],
   "source": [
    "order = 49\n",
    "R.<x>=PolynomialRing(GF(order, 'z'))\n",
    "f = x^21+x^2+1\n",
    "print \"El polinomio \", f, \" es irreducible en F49[x]?: \", irreducibility_test(f,order), \".\"\n",
    "g = R.random_element(6)\n",
    "print \"El polinomio \", g, \" es irreducible en F49[x]?: \", irreducibility_test(g,order), \".\""
   ]
  },
  {
   "cell_type": "markdown",
   "metadata": {},
   "source": [
    "# 6. Logaritmo discreto en cuerpos $\\mathbb{F}_q[x]/(f(x))$"
   ]
  },
  {
   "cell_type": "code",
   "execution_count": 14,
   "metadata": {},
   "outputs": [],
   "source": [
    "def baby_giant(v,g,ordG):\n",
    "    m = ceil(sqrt(ordG))\n",
    "\n",
    "    #  Generamos baby = { g^(j): 0 <= j < n }\n",
    "    baby = [g^0]\n",
    "    for i in  xrange(1,m): baby.append( baby[i-1]*g )\n",
    "    \n",
    "    # Generamos giant = { h*g^(-i): 0 <= i < w }\n",
    "    giant = [v]\n",
    "    inv_gm = g^(-m)\n",
    "    for i in  xrange(1,m): giant.append( giant[i-1]*inv_gm )\n",
    "     \n",
    "    # Tomamos los elementos que están simultáneamente en baby y giant\n",
    "    # Nos quedamos con el que tenga menor índice en giant.\n",
    "    # Para ese índice, calculamos x = j*m + i\n",
    "    # Si la intersección es vacía, no existe el logaritmo\n",
    "    intersection = set(baby).intersection(set(giant))\n",
    "    if len(intersection) == 0: \n",
    "        print (\"No existe logaritmo discreto de %s en base \" + \\\n",
    "        \"%s\") % (v,g)\n",
    "    else:\n",
    "        b = len(giant)\n",
    "        for inters in intersection:\n",
    "            if giant.index(inters) < b:\n",
    "                b = giant.index(inters)\n",
    "                a = baby.index(inters)\n",
    "                x = a+b*m\n",
    "        \n",
    "        #print  'x = a + b*m= (%s) + (%s)*(%d) = (%s)' % (a,b,m,x)  \n",
    "        return x"
   ]
  },
  {
   "cell_type": "markdown",
   "metadata": {},
   "source": [
    "## 6.1 Ejemplos en $\\mathbb{F}(3^6)[x]/(bx + 2b)$"
   ]
  },
  {
   "cell_type": "code",
   "execution_count": 15,
   "metadata": {},
   "outputs": [
    {
     "name": "stdout",
     "output_type": "stream",
     "text": [
      "21\n",
      "No existe logaritmo discreto de b + 1 en base 2*b + 1\n",
      "None\n"
     ]
    }
   ],
   "source": [
    "K.<b> = GF(3^6)\n",
    "R.<x> = PolynomialRing(K)\n",
    "f = b*x + 2*b # polinomio de K[x]\n",
    "I = R.ideal([f]) # ideal generado por bx + 2b\n",
    "Q = R.quotient_ring(I) # K[x]/f(x)\n",
    "\n",
    "Ax = Q(b*x^3 + x + b)\n",
    "ordA = order_from_multiple(Ax,Q.order(),operation='*',check=False)\n",
    "\n",
    "Bx = Ax^245\n",
    "Cx = Q(x^2 + b)\n",
    "\n",
    "print(baby_giant(Bx,Ax,ordA))\n",
    "print(baby_giant(Cx,Ax,ordA))"
   ]
  },
  {
   "cell_type": "markdown",
   "metadata": {},
   "source": [
    "# 7. Algoritmo de factorización de un polinomio en cuerpo finito"
   ]
  },
  {
   "cell_type": "markdown",
   "metadata": {},
   "source": [
    "## 7.1 Equal degree-splitting"
   ]
  },
  {
   "cell_type": "code",
   "execution_count": 16,
   "metadata": {},
   "outputs": [],
   "source": [
    "def eq_degree_splitting(f, q, d):\n",
    "    R = f.parent()\n",
    "    a = R.random_element((1, f.degree() - 1)) # 0 < deg a < deg f\n",
    "    \n",
    "    #if (a.degree() < 1): return \"failure\"\n",
    "\n",
    "    g1 = gcd(a,f)\n",
    "    if (g1 != 1): return g1\n",
    "    \n",
    "    b = fast_exp_mod(a, (q^d - 1) // 2, f)\n",
    "    \n",
    "    g2 = gcd(b - 1, f)  \n",
    "    if (g2 != 1 and g2 != f): return g2\n",
    "    else: return \"failure\""
   ]
  },
  {
   "cell_type": "markdown",
   "metadata": {},
   "source": [
    "## 7.2 Equal degree-factorization"
   ]
  },
  {
   "cell_type": "code",
   "execution_count": 17,
   "metadata": {},
   "outputs": [],
   "source": [
    "def eq_degree_factorization(f,q,d):\n",
    "\n",
    "    if (f.degree() == d): return [f]\n",
    "    while(True):\n",
    "        g = eq_degree_splitting(f, q, d)\n",
    "        if (g != \"failure\"): break\n",
    "    return eq_degree_factorization(g, q, d) + eq_degree_factorization(f // g, q, d)"
   ]
  },
  {
   "cell_type": "markdown",
   "metadata": {},
   "source": [
    "## 7.3 Algoritmo de factorización de un polinomio en cuerpo finito"
   ]
  },
  {
   "cell_type": "code",
   "execution_count": 18,
   "metadata": {},
   "outputs": [],
   "source": [
    "def poly_fact_finite_field(f, q):\n",
    "    R = f.parent()\n",
    "    h = x\n",
    "    v = f / f.leading_coefficient()\n",
    "    i = 0\n",
    "    U = []\n",
    "    while (True): \n",
    "        i = i + 1\n",
    "        h = fast_exp_mod(h, q, f)\n",
    "        g = gcd(h - x, v)\n",
    "        if (g != 1):\n",
    "            G = eq_degree_factorization(g, q, i) #Computar los factores mónicos irreducibles de g\n",
    "            for gj in G:\n",
    "                e = 0\n",
    "                while(gcd(v, gj) != 1): # Calcular multiplicidades     \n",
    "                    v = v // gj \n",
    "                    e = e + 1\n",
    "                U = U + [(gj, e)] \n",
    "        if (v == 1): break\n",
    "    return U"
   ]
  },
  {
   "cell_type": "markdown",
   "metadata": {},
   "source": [
    "## 7.4 Ejemplos en $\\mathbb{F}(3)[x]$"
   ]
  },
  {
   "cell_type": "code",
   "execution_count": 19,
   "metadata": {},
   "outputs": [
    {
     "name": "stdout",
     "output_type": "stream",
     "text": [
      "(x^2 + 1) * (x^2 + x + 2)\n",
      "[(x^2 + x + 2, 1), (x^2 + 1, 1)]\n",
      "[(x, 1), (x^2 + 1, 1), (x^2 + x + 2, 1), (x^3 + 2*x + 1, 1)]\n",
      "x * (x^2 + 1) * (x^2 + x + 2) * (x^3 + 2*x + 1)\n"
     ]
    }
   ],
   "source": [
    "R.<x>=PolynomialRing(GF(3))\n",
    "f=x^4+x^3+x-1\n",
    "f2=x^8+x^7-x^6+x^5-x^3-x^2-x\n",
    "print f.factor()\n",
    "print poly_fact_finite_field(f,3)\n",
    "print poly_fact_finite_field(f2,3)\n",
    "print f2.factor()"
   ]
  },
  {
   "cell_type": "markdown",
   "metadata": {},
   "source": [
    "# 8. Algoritmo de factorización de Berlekamp en cuerpo finito\n"
   ]
  },
  {
   "cell_type": "code",
   "execution_count": 83,
   "metadata": {},
   "outputs": [],
   "source": [
    "def berlekamp(f, q):\n",
    "\n",
    "    R = f.base_ring()\n",
    "    RX = f.parent()\n",
    "    n = f.degree()\n",
    "    pol = 1\n",
    "    aux = fast_exp_mod(x, q, f)\n",
    "    Q = matrix(R, n, n)\n",
    "\n",
    "    # Rellenamos Q de forma que Q[i,j]:= coeficiente de (x^j) en (x^(qi) mod f)\n",
    "\n",
    "    for i in range(n):\n",
    "        for j in range(n): Q[i, j] = 0\n",
    "\n",
    "    # Rellenamos 1er elemento para completar la primera fila\n",
    "    Q[0, 0] = 1\n",
    "\n",
    "    # En cada iteración calculamos (x^(qi) mod f) y rellenamos la fila i-ésima de Q\n",
    "    for i in range(1,n):\n",
    "        pol = (pol * aux) % f\n",
    "        for j in range(pol.degree() + 1): \n",
    "            Q[i, j] = pol[j]\n",
    "\n",
    "    # Calculamos Q-I\n",
    "    for i in range(n): Q[i, i] = Q[i, i] - 1\n",
    "\n",
    "    Q.echelonize() # Efectúa transformación por el metodo de eliminacion Gaussiana\n",
    "    K = Q.kernel() # Espacio vectorial que conforma el núcleo\n",
    "    B = K.basis_matrix() # Base de la Berlekamp algebra\n",
    "    r = K.dimension() # Dimensión del núcleo\n",
    "\n",
    "    if (r == 1): return f\n",
    "\n",
    "    C = random_vector(R, r)\n",
    "\n",
    "    a = RX([0]) # Inicializamos la variable, porque da error si no \n",
    "    \n",
    "    for i in range(r): # Calculamos a = C1*B1 + C2*B2 + ...Cr*Br\n",
    "        a = a + C[i] * RX(B[i].list()) \n",
    "\n",
    "\n",
    "    g1 = gcd(a,f)\n",
    "\n",
    "    if g1 != 1 and g1 != f: \n",
    "        return g1\n",
    "\n",
    "    b = fast_exp_mod(a, ((q - 1) // 2), f)\n",
    "    g2 = gcd(b - 1, f)\n",
    "\n",
    "    if g2 != 1 and g2 != f:\n",
    "        return g2\n",
    "    else: \n",
    "        return \"failure\"\n"
   ]
  },
  {
   "cell_type": "markdown",
   "metadata": {},
   "source": [
    "## 8.1 Ejemplos en $\\mathbb{F}(7)[x]$"
   ]
  },
  {
   "cell_type": "code",
   "execution_count": 84,
   "metadata": {},
   "outputs": [
    {
     "name": "stdout",
     "output_type": "stream",
     "text": [
      "6*x^9 + 2*x^8 + x^7 + 5*x^6 + 5*x^5 + 6*x^3 + 2*x^2 + 3  = \n",
      "= ( x + 3 ) * ( 6*x^8 + 5*x^7 + 5*x^5 + 4*x^4 + 2*x^3 + 2*x + 1 )\n",
      "\n",
      "5*x^9 + 3*x^8 + 5*x^7 + 3*x^6 + 3*x^5 + 2*x^3 + 6*x^2 + 3*x + 3  = \n",
      "= ( x + 2 ) * ( 5*x^8 + 5*x^6 + 3*x^4 + x^3 + 6*x + 5 )\n"
     ]
    }
   ],
   "source": [
    "R.<x> = PolynomialRing(GF(7))\n",
    "f = 6*x^9 + 2*x^8 + x^7 + 5*x^6 + 5*x^5 + 6*x^3 + 2*x^2 + 3\n",
    "g = berlekamp(f, 7)\n",
    "if g != \"failure\":\n",
    "    print f, \" = \"\n",
    "    print \"= (\", g, \") * (\", f / g, \")\\n\"\n",
    "else:\n",
    "    print \"No se encontró el factor. Intentelo de nuevo\\n\"\n",
    "\n",
    "f = R.random_element((4, 10))\n",
    "g = berlekamp(f, 7)\n",
    "\n",
    "if g != \"failure\":\n",
    "    print f, \" = \"\n",
    "    print \"= (\", g, \") * (\", f / g, \")\"\n",
    "else:\n",
    "    print \"No se encontró el factor. Intentelo de nuevo\""
   ]
  },
  {
   "cell_type": "markdown",
   "metadata": {},
   "source": [
    "# 9. Algoritmos de factorización en $\\mathbb{Z}[x]$"
   ]
  },
  {
   "cell_type": "code",
   "execution_count": 85,
   "metadata": {},
   "outputs": [
    {
     "name": "stdout",
     "output_type": "stream",
     "text": [
      "EXAMPLE 15.8 (continued); page 447 Modern Computer Algebra\n",
      "m = 5\n",
      "f = x^4 - 1\n",
      "g = x^3 + 2*x^2 - x - 2\n",
      "h = x - 2\n",
      "s = 3\n",
      "t = 2*x^2 + 3*x + 4\n",
      "(g',h',s',t') mod 625 = (x^3 + 182*x^2 + 624*x + 443, x + 443, -267, 267*x^2 + 313*x + 449)\n"
     ]
    }
   ],
   "source": [
    "def hensel_step(m, f, g, h, s, t, base = None):\n",
    "  \n",
    "    base = base or m # en el paso esto es m^(l-1)\n",
    "    m_l = base * m # la nueva elevación: m^l\n",
    "\n",
    "    ## Resolvemos las ecuaciones modulo la base m_l\n",
    "\n",
    "    e = (f - g * h) % m_l\n",
    "    \n",
    "    (q, r) = (s * e).quo_rem(h)\n",
    "    (q, r) = tuple([k % m_l for k in (q,r)])\n",
    "\n",
    "    g_ = (g + t * e + q * g) % m_l\n",
    "    h_ = (h + r) % m_l\n",
    "\n",
    "\n",
    "    b = (s * g_ + t * h_ - 1) % m_l\n",
    "\n",
    "    (c, d) = (s * b).quo_rem(h_) # calculamos c,d\n",
    "    (c, d) = tuple([k % m_l for k in (c , d)]) # les hacemos el módulo\n",
    "\n",
    "    s_ = (s - d) % m_l\n",
    "    t_ = (t - t*b - c*g_) % m_l\n",
    "\n",
    "    return (g_, h_, s_, t_)\n",
    "\n",
    "\n",
    "def hensel_lift(p, l, f, g, h, s, t):\n",
    "    m = 1\n",
    "    for i in range(1, l):\n",
    "        m = m * p\n",
    "        (g, h, s, t) = hensel_step(p, f, g, h, s, t, base = m)\n",
    "    return (g, h, s, t)\n",
    "\n",
    "m = 5\n",
    "\n",
    "K.<y> = PolynomialRing(FiniteField(5))\n",
    "R.<x> = PolynomialRing(ZZ)\n",
    "\n",
    "f= x^4 -1\n",
    "g = x^3 + 2*x^2 - x - 2\n",
    "h = x - 2\n",
    "(d,s,t) = tuple([R(k) for k in xgcd(K(g),K(h))])\n",
    "\n",
    "print \"EXAMPLE 15.8 (continued); page 447 Modern Computer Algebra\"\n",
    "print \"m =\",m\n",
    "print \"f =\",f\n",
    "print \"g =\",g\n",
    "print \"h =\",h\n",
    "print \"s =\",s\n",
    "print \"t =\",t\n",
    "print \"(g',h',s',t') mod %d =\" % m^4,hensel_lift(m,4,f,g,h,s,t)\n"
   ]
  },
  {
   "cell_type": "code",
   "execution_count": 82,
   "metadata": {},
   "outputs": [],
   "source": [
    "xgcd?"
   ]
  },
  {
   "cell_type": "code",
   "execution_count": null,
   "metadata": {},
   "outputs": [],
   "source": []
  },
  {
   "cell_type": "markdown",
   "metadata": {},
   "source": [
    "# 10. Algoritmo de primalidad de *AKS*"
   ]
  },
  {
   "cell_type": "code",
   "execution_count": 74,
   "metadata": {},
   "outputs": [],
   "source": [
    "def ordr (r, n, m):\n",
    "    k = 1\n",
    "    nextR = False\n",
    "    while not nextR and k <= m:\n",
    "        mod = power_mod(n, k, r)\n",
    "        nextR = (mod == 1) or (mod == 0)\n",
    "        k += 1\n",
    "    return nextR\n",
    "\n",
    "def AKS(n):\n",
    "    # comprobamos que no sea potencia de la forma a^b\n",
    "    for b in xrange(2, log(n, 2)):\n",
    "        a = n ^ (1 / b)\n",
    "        if floor(a) == a: return 'composite'\n",
    "\n",
    "    # Obtenemos r tal que O_r(n) > log_2(n)^2\n",
    "    r = 1\n",
    "    nextR = True\n",
    "    maxK = pari(log(n, 2) ^ 2).floor() \n",
    "    while nextR:\n",
    "        r += 1\n",
    "        nextR = False\n",
    "        nextR = ordr(r, n, maxK)\n",
    "\n",
    "    # si 1 < gcd(a,n) < n para a en (1,r] -> compuesto\n",
    "    for a in range(2, r + 1):\n",
    "        mcd = euclides(a,n, mod_int)\n",
    "        if 1 < mcd  and mcd < n: return 'composite'\n",
    "\n",
    "    # si r>=n -> primo\n",
    "    if(r >= n): return 'prime'\n",
    "\n",
    "    # para a en [1,N] si (x+a)^n == x^n+ a en (Z_n[x] / (x^r - 1)) -> comp\n",
    "    N = pari(sqrt(euler_phi(r)) * log(n, 2)).floor()\n",
    "    for a in xrange(1, N + 1):\n",
    "        R.<x> = PolynomialRing(Integers(n))\n",
    "        S = R.quotient((x ^ r) - 1)\n",
    "        c = S((x ^ n + a))\n",
    "        d = (x + a) ^ n\n",
    "\n",
    "        if (c != d): return 'composite'\n",
    "    return 'prime'"
   ]
  },
  {
   "cell_type": "markdown",
   "metadata": {},
   "source": [
    "## 10.1 Ejemplos"
   ]
  },
  {
   "cell_type": "code",
   "execution_count": 75,
   "metadata": {},
   "outputs": [
    {
     "name": "stdout",
     "output_type": "stream",
     "text": [
      "composite\n",
      "prime\n",
      "prime\n"
     ]
    }
   ],
   "source": [
    "print(AKS(18))\n",
    "print(AKS(11))\n",
    "print(AKS(7))"
   ]
  }
 ],
 "metadata": {
  "kernelspec": {
   "display_name": "SageMath 8.1",
   "language": "",
   "name": "sagemath"
  },
  "language_info": {
   "codemirror_mode": {
    "name": "ipython",
    "version": 2
   },
   "file_extension": ".py",
   "mimetype": "text/x-python",
   "name": "python",
   "nbconvert_exporter": "python",
   "pygments_lexer": "ipython2",
   "version": "2.7.15rc1"
  }
 },
 "nbformat": 4,
 "nbformat_minor": 2
}
