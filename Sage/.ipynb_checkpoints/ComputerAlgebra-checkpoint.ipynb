{
 "cells": [
  {
   "cell_type": "code",
   "execution_count": 20,
   "metadata": {},
   "outputs": [],
   "source": [
    "%display latex"
   ]
  },
  {
   "cell_type": "markdown",
   "metadata": {},
   "source": [
    "<h1><p style=\"color:#16A085\"> Álgebra Computacional </p style></h1>\n",
    "<h2> Índice </h2>\n",
    "\n",
    "- 1. Algoritmo de Euclides\n",
    "    - 1.1 Algoritmo de Euclides para un Dominio Euclídeo\n",
    "    - 1.2 Algoritmo de Euclides extendido para un Dominio Euclídeo\n",
    "    - 1.3 Ejemplos en $\\mathbb{Z}$\n",
    "    - 1.4 Ejemplos en $\\mathbb{Q}[x]$\n",
    "    - 1.5 Ejemplos en $\\mathbb{R}[x]$\n",
    "    - 1.6 Ejemplos en $\\mathbb{Z}[i]$\n",
    "    "
   ]
  },
  {
   "cell_type": "markdown",
   "metadata": {},
   "source": [
    "# 1. Algoritmo de Euclides"
   ]
  },
  {
   "cell_type": "markdown",
   "metadata": {},
   "source": [
    "# 1.1 Algoritmo de Euclides para un Dominio Euclídeo"
   ]
  },
  {
   "cell_type": "code",
   "execution_count": 189,
   "metadata": {},
   "outputs": [],
   "source": [
    "def euclides(a, b, mod):\n",
    "    if (b == 0):\n",
    "        return a\n",
    "    else:\n",
    "        return euclides (b, (mod(a, b)), mod)"
   ]
  },
  {
   "cell_type": "markdown",
   "metadata": {},
   "source": [
    "## 1.2 Algoritmo de Euclides extendido para un Dominio Euclídeo"
   ]
  },
  {
   "cell_type": "code",
   "execution_count": 190,
   "metadata": {},
   "outputs": [],
   "source": [
    "def extendedEuclides(a, b, div_mod):\n",
    "    if (b == 0):\n",
    "        return a, 1, 0 \n",
    "    else:\n",
    "        q, r = div_mod(a, b)\n",
    "        c, d, e = extendedEuclides(b, r, div_mod)\n",
    "        return c, e, (d -q * e)"
   ]
  },
  {
   "cell_type": "markdown",
   "metadata": {},
   "source": [
    "## 1.3 Ejemplos en $\\mathbb{Z}$"
   ]
  },
  {
   "cell_type": "code",
   "execution_count": 191,
   "metadata": {
    "scrolled": true
   },
   "outputs": [
    {
     "name": "stdout",
     "output_type": "stream",
     "text": [
      "11\n",
      "(11, 1, -2)\n"
     ]
    }
   ],
   "source": [
    "def mod_int(a, b): return a % b\n",
    "def div_mod_int(a, b): return a // b, a % b\n",
    "\n",
    "print(euclides(55, 22, mod_int))\n",
    "print(extendedEuclides(55, 22, div_mod_int))"
   ]
  },
  {
   "cell_type": "markdown",
   "metadata": {},
   "source": [
    "## 1.4 Ejemplos en $\\mathbb{Q}[x]$"
   ]
  },
  {
   "cell_type": "code",
   "execution_count": 192,
   "metadata": {},
   "outputs": [
    {
     "name": "stdout",
     "output_type": "stream",
     "text": [
      "x + 1\n",
      "(2*x + 2, 1, -1)\n",
      "x^3 + 2/3*x^2 + x + 2/3\n"
     ]
    }
   ],
   "source": [
    "def mod_pol(a, b): return (a % b) if (a % b) == 0 else (a % b).monic()\n",
    "def div_mod_pol(a, b): return a.quo_rem(b)\n",
    "    \n",
    "R.<x> = QQ['x']\n",
    "\n",
    "a = (x^2 +2*x + 1)\n",
    "b =  (x^2 - 1)\n",
    "\n",
    "print(euclides(a, b, mod_pol))\n",
    "print(extendedEuclides(a, b, div_mod_pol))\n",
    "\n",
    "c = (x+2/3)*(x-3/2)*(x^2+1)\n",
    "d = (x+2/3)*(x+2/3)*(x^2+1)\n",
    "print(euclides(c, d, mod_pol))"
   ]
  },
  {
   "cell_type": "markdown",
   "metadata": {},
   "source": [
    "## 1.5 Ejemplos en $\\mathbb{R}[x]$"
   ]
  },
  {
   "cell_type": "code",
   "execution_count": 193,
   "metadata": {},
   "outputs": [
    {
     "name": "stdout",
     "output_type": "stream",
     "text": [
      "x + 1.00000000000000\n",
      "(2.00000000000000*x + 2.00000000000000, 1.00000000000000, -1.00000000000000)\n",
      "x^3 + 0.666666666666667*x^2 + x + 0.666666666666667\n"
     ]
    }
   ],
   "source": [
    "R.<x> = RR['x']\n",
    "a = (x^2 +2*x + 1)\n",
    "b =  (x^2 - 1)\n",
    "print(euclides(a, b, mod_pol))\n",
    "print(extendedEuclides(a, b, div_mod_pol))\n",
    "\n",
    "c = (x+2/3)*(x-3/2)*(x^2+1)\n",
    "d = (x+2/3)*(x+2/3)*(x^2+1)\n",
    "print(euclides(c, d, mod_pol))"
   ]
  },
  {
   "cell_type": "markdown",
   "metadata": {},
   "source": [
    "## 1.5 Ejemplos en $\\mathbb{Z}[i]$"
   ]
  },
  {
   "cell_type": "code",
   "execution_count": null,
   "metadata": {},
   "outputs": [],
   "source": []
  },
  {
   "cell_type": "code",
   "execution_count": null,
   "metadata": {},
   "outputs": [],
   "source": []
  },
  {
   "cell_type": "code",
   "execution_count": null,
   "metadata": {},
   "outputs": [],
   "source": []
  }
 ],
 "metadata": {
  "kernelspec": {
   "display_name": "SageMath 8.4",
   "language": "",
   "name": "sagemath"
  },
  "language_info": {
   "codemirror_mode": {
    "name": "ipython",
    "version": 2
   },
   "file_extension": ".py",
   "mimetype": "text/x-python",
   "name": "python",
   "nbconvert_exporter": "python",
   "pygments_lexer": "ipython2",
   "version": "2.7.15"
  }
 },
 "nbformat": 4,
 "nbformat_minor": 2
}
