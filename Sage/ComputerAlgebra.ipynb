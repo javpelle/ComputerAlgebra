{
 "cells": [
  {
   "cell_type": "code",
   "execution_count": null,
   "metadata": {},
   "outputs": [],
   "source": [
    "%display latex"
   ]
  },
  {
   "cell_type": "markdown",
   "metadata": {},
   "source": [
    "<h1><p style=\"color:#16A085\"> Álgebra Computacional </p style></h1>\n",
    "<h2> Índice </h2>\n",
    "\n",
    "- 1. Algoritmo de Euclides\n",
    "    - 1.1 Algoritmo de Euclides para un Dominio Euclídeo\n",
    "    - 1.2 Algoritmo de Euclides extendido para un Dominio Euclídeo\n",
    "    - 1.3 Ejemplos en $\\mathbb{Z}$\n",
    "    - 1.4 Ejemplos en $\\mathbb{Q}[x]$\n",
    "    - 1.5 Ejemplos en $\\mathbb{R}[x]$\n",
    "    - 1.6 Ejemplos en $\\mathbb{Z}[i]$\n",
    "    "
   ]
  },
  {
   "cell_type": "markdown",
   "metadata": {},
   "source": [
    "# 1. Algoritmo de Euclides"
   ]
  },
  {
   "cell_type": "markdown",
   "metadata": {},
   "source": [
    "# 1.1 Algoritmo de Euclides para un Dominio Euclídeo"
   ]
  },
  {
   "cell_type": "code",
   "execution_count": 12,
   "metadata": {},
   "outputs": [],
   "source": [
    "def euclides(a, b, mod):\n",
    "    if (b == 0):\n",
    "        return a\n",
    "    else:\n",
    "        return euclides (b, (mod(a, b)), mod)"
   ]
  },
  {
   "cell_type": "markdown",
   "metadata": {},
   "source": [
    "## 1.2 Algoritmo de Euclides extendido para un Dominio Euclídeo"
   ]
  },
  {
   "cell_type": "code",
   "execution_count": 20,
   "metadata": {},
   "outputs": [],
   "source": [
    "def extendedEuclides(a, b, div_mod):\n",
    "    if (b == 0):\n",
    "        return a, 1, 0 \n",
    "    else:\n",
    "        q, r = div_mod(a, b)\n",
    "        gcd, d, e = extendedEuclides(b, r, div_mod)\n",
    "        return gcd, e, (d -q * e)"
   ]
  },
  {
   "cell_type": "markdown",
   "metadata": {},
   "source": [
    "## 1.3 Ejemplos en $\\mathbb{Z}$"
   ]
  },
  {
   "cell_type": "code",
   "execution_count": 21,
   "metadata": {
    "scrolled": true
   },
   "outputs": [
    {
     "name": "stdout",
     "output_type": "stream",
     "text": [
      "11\n",
      "(11, 1, -2)\n"
     ]
    }
   ],
   "source": [
    "def mod_int(a, b): return a % b\n",
    "def div_mod_int(a, b): return a // b, a % b\n",
    "\n",
    "print(euclides(55, 22, mod_int))\n",
    "print(extendedEuclides(55, 22, div_mod_int))"
   ]
  },
  {
   "cell_type": "markdown",
   "metadata": {},
   "source": [
    "## 1.4 Ejemplos en $\\mathbb{Q}[x]$"
   ]
  },
  {
   "cell_type": "code",
   "execution_count": 93,
   "metadata": {},
   "outputs": [
    {
     "name": "stdout",
     "output_type": "stream",
     "text": [
      "2*x + 2\n",
      "(2*x + 2, 1, -1)\n",
      "-13/6*x^3 - 13/9*x^2 - 13/6*x - 13/9\n"
     ]
    }
   ],
   "source": [
    "def monic(a): return a\n",
    "def div_mod_pol(a, b): return a.quo_rem(b);\n",
    "def mod_pol(a, b): _, r =  div_mod_pol(a, b); return r\n",
    "    \n",
    "R.<x> = QQ[]\n",
    "\n",
    "a = (x^2 +2*x + 1)\n",
    "b =  (x^2 - 1)\n",
    "\n",
    "print(euclides(a, b, mod_pol))\n",
    "print(extendedEuclides(a, b, div_mod_pol))\n",
    "\n",
    "c = (x+2/3)*(x-3/2)*(x^2+1)\n",
    "d = (x+2/3)*(x+2/3)*(x^2+1)\n",
    "print(euclides(c, d, mod_pol))"
   ]
  },
  {
   "cell_type": "markdown",
   "metadata": {},
   "source": [
    "## 1.5 Ejemplos en $\\mathbb{R}[x]$"
   ]
  },
  {
   "cell_type": "code",
   "execution_count": 94,
   "metadata": {},
   "outputs": [
    {
     "name": "stdout",
     "output_type": "stream",
     "text": [
      "2.00000000000000*x + 2.00000000000000\n",
      "(2.00000000000000*x + 2.00000000000000, 1.00000000000000, -1.00000000000000)\n",
      "5.34551826671372e-17\n"
     ]
    }
   ],
   "source": [
    "R.<x> = RR[]\n",
    "a = (x^2 +2*x + 1)\n",
    "b =  (x^2 - 1)\n",
    "print(euclides(a, b, mod_pol))\n",
    "print(extendedEuclides(a, b, div_mod_pol))\n",
    "\n",
    "c = (x+2/3)*(x-3/2)*(x^2+1)\n",
    "d = (x+2/3)*(x+2/3)*(x^2+1)\n",
    "print(euclides(c, d, mod_pol))"
   ]
  },
  {
   "cell_type": "markdown",
   "metadata": {},
   "source": [
    "## 1.6 Ejemplos en $\\mathbb{Z}[i]$"
   ]
  },
  {
   "cell_type": "code",
   "execution_count": 95,
   "metadata": {},
   "outputs": [
    {
     "data": {
      "text/html": [
       "<html><script type=\"math/tex; mode=display\">\\newcommand{\\Bold}[1]{\\mathbf{#1}}11 i - 2</script></html>"
      ],
      "text/plain": [
       "11*I - 2"
      ]
     },
     "execution_count": 95,
     "metadata": {},
     "output_type": "execute_result"
    }
   ],
   "source": [
    "def divide_gaussian_integers(z, d):\n",
    "    r,q = z, 0\n",
    "    s = 1 if norm(r - d) < norm(r) else -1\n",
    "    while norm(r - s*d) < norm(r):\n",
    "        q = q + s\n",
    "        r = r - s*d\n",
    "\n",
    "    s = I if norm(r - I*d) < norm(r) else -I\n",
    "    while norm(r - s*d) < norm(r):\n",
    "        q = q + s\n",
    "        r = r - s*d\n",
    "    return q, r\n",
    "\n",
    "def mod_gauss(a, b): \n",
    "    q,r = divide_gaussian_integers(a, b)\n",
    "    return r\n",
    "a = (11 + 2*I) * (3 - 2*I)\n",
    "b = (11 + 2*I) * (-5 +I)\n",
    "\n",
    "euclides(a, b, mod_gauss)"
   ]
  },
  {
   "cell_type": "markdown",
   "metadata": {},
   "source": [
    "# 2. Teorema chino del resto"
   ]
  },
  {
   "cell_type": "code",
   "execution_count": 96,
   "metadata": {},
   "outputs": [],
   "source": [
    "def chineseRemainder(coprimes, elems, div_mod, rem):\n",
    "    m = coprimes[0]\n",
    "    for i in range(1, len(coprimes)):\n",
    "        m = m * coprimes[i]\n",
    "    result = 0;\n",
    "    for i in range(0, len(coprimes)):\n",
    "        n = m / coprimes[i]\n",
    "        _, a, _ = extendedEuclides(n, coprimes[i], div_mod)\n",
    "        c = rem((a * elems[i]), coprimes[i])\n",
    "        result = c * n + result\n",
    "    return result"
   ]
  },
  {
   "cell_type": "markdown",
   "metadata": {},
   "source": [
    "## 2.1 Ejemplos en $\\mathbb{Z}$"
   ]
  },
  {
   "cell_type": "code",
   "execution_count": 97,
   "metadata": {},
   "outputs": [
    {
     "data": {
      "text/html": [
       "<html><script type=\"math/tex; mode=display\">\\newcommand{\\Bold}[1]{\\mathbf{#1}}40</script></html>"
      ],
      "text/plain": [
       "40"
      ]
     },
     "execution_count": 97,
     "metadata": {},
     "output_type": "execute_result"
    }
   ],
   "source": [
    "def rem(a, b):\n",
    "    r = abs(a) % abs(b)\n",
    "    return r if a >= 0 else -r\n",
    "chineseRemainder([3,5,7],[4,5,33], div_mod_int, rem)"
   ]
  },
  {
   "cell_type": "markdown",
   "metadata": {},
   "source": [
    "## 2.2 Ejemplos en $\\mathbb{R}[x]$"
   ]
  },
  {
   "cell_type": "code",
   "execution_count": 98,
   "metadata": {},
   "outputs": [
    {
     "data": {
      "text/html": [
       "<html><script type=\"math/tex; mode=display\">\\newcommand{\\Bold}[1]{\\mathbf{#1}}0</script></html>"
      ],
      "text/plain": [
       "0"
      ]
     },
     "execution_count": 98,
     "metadata": {},
     "output_type": "execute_result"
    }
   ],
   "source": [
    "R.<x> = RR[]\n",
    "a = (x + 1)\n",
    "b =  (x^2 -2*x + 1)\n",
    "extendedEuclides(a,b,div_mod_pol)\n",
    "chineseRemainder([a,b],[b,a], div_mod_pol, mod_pol)"
   ]
  },
  {
   "cell_type": "code",
   "execution_count": null,
   "metadata": {},
   "outputs": [],
   "source": []
  },
  {
   "cell_type": "code",
   "execution_count": null,
   "metadata": {},
   "outputs": [],
   "source": []
  }
 ],
 "metadata": {
  "kernelspec": {
   "display_name": "SageMath 8.4",
   "language": "",
   "name": "sagemath"
  },
  "language_info": {
   "codemirror_mode": {
    "name": "ipython",
    "version": 2
   },
   "file_extension": ".py",
   "mimetype": "text/x-python",
   "name": "python",
   "nbconvert_exporter": "python",
   "pygments_lexer": "ipython2",
   "version": "2.7.15"
  }
 },
 "nbformat": 4,
 "nbformat_minor": 2
}
