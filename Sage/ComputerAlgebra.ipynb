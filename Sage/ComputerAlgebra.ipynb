{
 "cells": [
  {
   "cell_type": "code",
   "execution_count": 2,
   "metadata": {},
   "outputs": [],
   "source": [
    "%display latex"
   ]
  },
  {
   "cell_type": "markdown",
   "metadata": {},
   "source": [
    "<h1><p style=\"color:#16A085\"> Álgebra Computacional </p style></h1>\n",
    "<h2> Índice </h2>\n",
    "\n",
    "- 1. Algoritmo de Euclides\n",
    "    - 1.1 Algoritmo de Euclides para un Dominio Euclídeo\n",
    "    - 1.2 Algoritmo de Euclides extendido para un Dominio Euclídeo\n",
    "    - 1.3 Ejemplos en $\\mathbb{Z}$\n",
    "    - 1.4 Ejemplos en $\\mathbb{Q}[x]$\n",
    "    - 1.5 Ejemplos en $\\mathbb{R}[x]$\n",
    "    - 1.6 Ejemplos en $\\mathbb{Z}[i]$\n",
    "    "
   ]
  },
  {
   "cell_type": "markdown",
   "metadata": {},
   "source": [
    "# 1. Algoritmo de Euclides"
   ]
  },
  {
   "cell_type": "markdown",
   "metadata": {},
   "source": [
    "# 1.1 Algoritmo de Euclides para un Dominio Euclídeo"
   ]
  },
  {
   "cell_type": "code",
   "execution_count": 1,
   "metadata": {},
   "outputs": [],
   "source": [
    "def euclides(a, b, mod):\n",
    "    if (b == 0):\n",
    "        return a\n",
    "    else:\n",
    "        return euclides (b, (mod(a, b)), mod)"
   ]
  },
  {
   "cell_type": "markdown",
   "metadata": {},
   "source": [
    "## 1.2 Algoritmo de Euclides extendido para un Dominio Euclídeo"
   ]
  },
  {
   "cell_type": "code",
   "execution_count": 2,
   "metadata": {},
   "outputs": [],
   "source": [
    "def extendedEuclides(a, b, div_mod):\n",
    "    if (b == 0):\n",
    "        return a, 1, 0 \n",
    "    else:\n",
    "        q, r = div_mod(a, b)\n",
    "        gcd, d, e = extendedEuclides(b, r, div_mod)\n",
    "        return gcd, e, (d -q * e)"
   ]
  },
  {
   "cell_type": "markdown",
   "metadata": {},
   "source": [
    "## 1.3 Ejemplos en $\\mathbb{Z}$"
   ]
  },
  {
   "cell_type": "code",
   "execution_count": 3,
   "metadata": {
    "scrolled": true
   },
   "outputs": [
    {
     "name": "stdout",
     "output_type": "stream",
     "text": [
      "11\n",
      "(11, 1, -2)\n"
     ]
    }
   ],
   "source": [
    "def mod_int(a, b): return a % b\n",
    "def div_mod_int(a, b): return a // b, a % b\n",
    "\n",
    "print(euclides(55, 22, mod_int))\n",
    "print(extendedEuclides(55, 22, div_mod_int))"
   ]
  },
  {
   "cell_type": "markdown",
   "metadata": {},
   "source": [
    "## 1.4 Ejemplos en $\\mathbb{Q}[x]$"
   ]
  },
  {
   "cell_type": "code",
   "execution_count": 4,
   "metadata": {},
   "outputs": [
    {
     "name": "stdout",
     "output_type": "stream",
     "text": [
      "2*x + 2\n",
      "(2*x + 2, 1, -1)\n",
      "x^3 + 2/3*x^2 + x + 2/3\n"
     ]
    }
   ],
   "source": [
    "def div_mod_pol(a, b): return a.quo_rem(b);\n",
    "def mod_pol(a, b): _, r =  div_mod_pol(a, b); return r\n",
    "    \n",
    "R.<x> = QQ[]\n",
    "\n",
    "a = (x^2 +2*x + 1)\n",
    "b =  (x^2 - 1)\n",
    "\n",
    "print(euclides(a, b, mod_pol))\n",
    "print(extendedEuclides(a, b, div_mod_pol))\n",
    "\n",
    "c = (x+2/3)*(x-3/2)*(x^2+1)\n",
    "d = (x+2/3)*(x+2/3)*(x^2+1)\n",
    "print(euclides(c, d, mod_pol)).monic()"
   ]
  },
  {
   "cell_type": "markdown",
   "metadata": {},
   "source": [
    "## 1.5 Ejemplos en $\\mathbb{R}[x]$"
   ]
  },
  {
   "cell_type": "code",
   "execution_count": 5,
   "metadata": {},
   "outputs": [
    {
     "name": "stdout",
     "output_type": "stream",
     "text": [
      "2.00000000000000*x + 2.00000000000000\n",
      "(2.00000000000000*x + 2.00000000000000, 1.00000000000000, -1.00000000000000)\n",
      "-3.28954970259306e-17\n"
     ]
    }
   ],
   "source": [
    "R.<x> = RR[]\n",
    "a = (x^2 +2*x + 1)\n",
    "b = (x^2 - 1)\n",
    "print(euclides(a, b, mod_pol))\n",
    "print(extendedEuclides(a, b, div_mod_pol))\n",
    "\n",
    "c = (x+2/3)*(x-2/3)*(x^2+1)\n",
    "d = (x+2/3)*(x+2/3)*(x^2+1)\n",
    "print(euclides(c, d, mod_pol))"
   ]
  },
  {
   "cell_type": "markdown",
   "metadata": {},
   "source": [
    "## 1.6 Ejemplos en $\\mathbb{Z}[i]$"
   ]
  },
  {
   "cell_type": "code",
   "execution_count": 6,
   "metadata": {},
   "outputs": [
    {
     "data": {
      "text/plain": [
       "11*I - 2"
      ]
     },
     "execution_count": 6,
     "metadata": {},
     "output_type": "execute_result"
    }
   ],
   "source": [
    "def divide_gaussian_integers(z, d):\n",
    "    r,q = z, 0\n",
    "    s = 1 if norm(r - d) < norm(r) else -1\n",
    "    while norm(r - s*d) < norm(r):\n",
    "        q = q + s\n",
    "        r = r - s*d\n",
    "\n",
    "    s = I if norm(r - I*d) < norm(r) else -I\n",
    "    while norm(r - s*d) < norm(r):\n",
    "        q = q + s\n",
    "        r = r - s*d\n",
    "    return q, r\n",
    "\n",
    "def mod_gauss(a, b): \n",
    "    q,r = divide_gaussian_integers(a, b)\n",
    "    return r\n",
    "a = (11 + 2*I) * (3 - 2*I)\n",
    "b = (11 + 2*I) * (-5 +I)\n",
    "\n",
    "euclides(a, b, mod_gauss)"
   ]
  },
  {
   "cell_type": "markdown",
   "metadata": {},
   "source": [
    "# 2. Teorema chino del resto"
   ]
  },
  {
   "cell_type": "code",
   "execution_count": 7,
   "metadata": {},
   "outputs": [],
   "source": [
    "def chineseRemainder(coprimes, elems, div_mod, rem):\n",
    "    m = coprimes[0]\n",
    "    for i in range(1, len(coprimes)):\n",
    "        m = m * coprimes[i]\n",
    "    result = 0;\n",
    "    for i in range(0, len(coprimes)):\n",
    "        n = m / coprimes[i]\n",
    "        _, a, _ = extendedEuclides(n, coprimes[i], div_mod)\n",
    "        c = rem((a * elems[i]), coprimes[i])\n",
    "        result = c * n + result\n",
    "    return result"
   ]
  },
  {
   "cell_type": "markdown",
   "metadata": {},
   "source": [
    "## 2.1 Ejemplos en $\\mathbb{Z}$"
   ]
  },
  {
   "cell_type": "code",
   "execution_count": 8,
   "metadata": {},
   "outputs": [
    {
     "data": {
      "text/plain": [
       "40"
      ]
     },
     "execution_count": 8,
     "metadata": {},
     "output_type": "execute_result"
    }
   ],
   "source": [
    "def rem(a, b):\n",
    "    r = abs(a) % abs(b)\n",
    "    return r if a >= 0 else -r\n",
    "chineseRemainder([3,5,7],[4,5,33], div_mod_int, rem)"
   ]
  },
  {
   "cell_type": "markdown",
   "metadata": {},
   "source": [
    "## 2.2 Ejemplos en $\\mathbb{Q}[x]$"
   ]
  },
  {
   "cell_type": "code",
   "execution_count": 9,
   "metadata": {},
   "outputs": [
    {
     "name": "stdout",
     "output_type": "stream",
     "text": [
      "(4, -x + 3, 1)\n"
     ]
    },
    {
     "data": {
      "text/plain": [
       "0"
      ]
     },
     "execution_count": 9,
     "metadata": {},
     "output_type": "execute_result"
    }
   ],
   "source": [
    "R.<x> = QQ[]\n",
    "a = (x + 1)\n",
    "b =  (x^2 -2*x + 1)\n",
    "print(extendedEuclides(a,b,div_mod_pol))\n",
    "chineseRemainder([a,b],[x-2,x^2-4*x+4], div_mod_pol, mod_pol)"
   ]
  },
  {
   "cell_type": "markdown",
   "metadata": {},
   "source": [
    "# 3. MCD en DFU"
   ]
  },
  {
   "cell_type": "code",
   "execution_count": 10,
   "metadata": {},
   "outputs": [],
   "source": [
    "def gcdDFU(a, b):\n",
    "    if a.degree() < b.degree():\n",
    "        return mcdDFU(b,a)\n",
    "    while b != 0:\n",
    "        q,r = (b.leading_coefficient()**(a.degree() - b.degree() + 1) * a).quo_rem(b)\n",
    "        a = b\n",
    "        b = r\n",
    "    return a"
   ]
  },
  {
   "cell_type": "markdown",
   "metadata": {},
   "source": [
    "## 3.1 Ejemplos en $\\mathbb{Z}[x]$"
   ]
  },
  {
   "cell_type": "code",
   "execution_count": 11,
   "metadata": {},
   "outputs": [
    {
     "data": {
      "text/plain": [
       "x + 1"
      ]
     },
     "execution_count": 11,
     "metadata": {},
     "output_type": "execute_result"
    }
   ],
   "source": [
    "R.<x> = ZZ[]\n",
    "a = (x + 1)**2\n",
    "b = (x + 1)*(x - 1)\n",
    "gcdDFU(a, b).monic()"
   ]
  },
  {
   "cell_type": "markdown",
   "metadata": {},
   "source": [
    "# 4. Inverso de un elemento en un cuerpo finito"
   ]
  },
  {
   "cell_type": "code",
   "execution_count": 12,
   "metadata": {},
   "outputs": [],
   "source": [
    "def inverseFiniteField(a, field, div_mod):\n",
    "    _, _, b = extendedEuclides(field.cardinality(), a, div_mod)\n",
    "    return field(b)"
   ]
  },
  {
   "cell_type": "markdown",
   "metadata": {},
   "source": [
    "## 4.1 Ejemplos en $\\mathbb{Z}_p$"
   ]
  },
  {
   "cell_type": "code",
   "execution_count": 13,
   "metadata": {},
   "outputs": [
    {
     "name": "stdout",
     "output_type": "stream",
     "text": [
      "5\n",
      "20\n",
      "52\n"
     ]
    }
   ],
   "source": [
    "Z7 = Integers(7)\n",
    "a = 3\n",
    "print(inverseFiniteField(a, Z7, div_mod_int))\n",
    "\n",
    "Z31 = Integers(31)\n",
    "b = 14\n",
    "print(inverseFiniteField(b, Z31, div_mod_int))\n",
    "\n",
    "Z61 = Integers(61)\n",
    "c = 27\n",
    "print(inverseFiniteField(c, Z61, div_mod_int))"
   ]
  },
  {
   "cell_type": "markdown",
   "metadata": {},
   "source": [
    "# 5. Test de irreducibilidad de un polinomio en $\\mathbb{F}_q[x]$"
   ]
  },
  {
   "cell_type": "code",
   "execution_count": 14,
   "metadata": {},
   "outputs": [],
   "source": [
    "def fast_exp(x, e):\n",
    "#Devuelve x^e\n",
    "    if e==0: \n",
    "        return 1\n",
    "    elif e==1: \n",
    "        return x\n",
    "    elif e%2==0: \n",
    "        return fast_exp(x*x,e//2)\n",
    "    else: \n",
    "        return x*fast_exp(x*x,e//2)"
   ]
  },
  {
   "cell_type": "code",
   "execution_count": 15,
   "metadata": {},
   "outputs": [],
   "source": [
    "def fast_exp_mod(b,e,m):\n",
    "#Devuelve b^e mod m.\n",
    "    r = 1\n",
    "    b = b%m\n",
    "    while e>0:\n",
    "        if e%2 == 1:\n",
    "            r = (r*b)%m\n",
    "        e = e//2\n",
    "        b  = (b*b)%m\n",
    "    return r "
   ]
  },
  {
   "cell_type": "code",
   "execution_count": 16,
   "metadata": {},
   "outputs": [],
   "source": [
    "def irreducibility_test(f,q):\n",
    "    n = f.degree()\n",
    "    F= factor(n)\n",
    "    primes =[f[0] for f in F for i in range(f[1])]\n",
    "    \n",
    "    s = fast_exp((x),q)\n",
    "    print s\n",
    "    a = fast_exp_mod(s,n,f)\n",
    "    print a\n",
    "    if a != x: return False\n",
    "    \n",
    "    for k in primes:\n",
    "        h = fast_exp_mod(s,n//t,f)\n",
    "        if gcd(h-x, f) != 1: return False\n",
    "    return True"
   ]
  },
  {
   "cell_type": "code",
   "execution_count": 17,
   "metadata": {},
   "outputs": [
    {
     "name": "stdout",
     "output_type": "stream",
     "text": [
      "El polinomio  x^21 + x^2 + 1  es irreducible en F14[x]?:  x^14\n"
     ]
    },
    {
     "ename": "TypeError",
     "evalue": "no common canonical parent for objects with parents: 'Univariate Polynomial Ring in x over Ring of integers modulo 14' and '<type 'tuple'>'",
     "output_type": "error",
     "traceback": [
      "\u001b[0;31m\u001b[0m",
      "\u001b[0;31mTypeError\u001b[0mTraceback (most recent call last)",
      "\u001b[0;32m<ipython-input-17-cce55f7da2a9>\u001b[0m in \u001b[0;36m<module>\u001b[0;34m()\u001b[0m\n\u001b[1;32m      1\u001b[0m \u001b[0mR\u001b[0m \u001b[0;34m=\u001b[0m \u001b[0mPolynomialRing\u001b[0m\u001b[0;34m(\u001b[0m\u001b[0mIntegers\u001b[0m\u001b[0;34m(\u001b[0m\u001b[0mInteger\u001b[0m\u001b[0;34m(\u001b[0m\u001b[0;36m14\u001b[0m\u001b[0;34m)\u001b[0m\u001b[0;34m)\u001b[0m\u001b[0;34m,\u001b[0m \u001b[0mnames\u001b[0m\u001b[0;34m=\u001b[0m\u001b[0;34m(\u001b[0m\u001b[0;34m'x'\u001b[0m\u001b[0;34m,\u001b[0m\u001b[0;34m)\u001b[0m\u001b[0;34m)\u001b[0m\u001b[0;34m;\u001b[0m \u001b[0;34m(\u001b[0m\u001b[0mx\u001b[0m\u001b[0;34m,\u001b[0m\u001b[0;34m)\u001b[0m \u001b[0;34m=\u001b[0m \u001b[0mR\u001b[0m\u001b[0;34m.\u001b[0m\u001b[0m_first_ngens\u001b[0m\u001b[0;34m(\u001b[0m\u001b[0;36m1\u001b[0m\u001b[0;34m)\u001b[0m\u001b[0;34m\u001b[0m\u001b[0m\n\u001b[1;32m      2\u001b[0m \u001b[0mf\u001b[0m \u001b[0;34m=\u001b[0m \u001b[0mx\u001b[0m\u001b[0;34m**\u001b[0m\u001b[0mInteger\u001b[0m\u001b[0;34m(\u001b[0m\u001b[0;36m21\u001b[0m\u001b[0;34m)\u001b[0m\u001b[0;34m+\u001b[0m\u001b[0mx\u001b[0m\u001b[0;34m**\u001b[0m\u001b[0mInteger\u001b[0m\u001b[0;34m(\u001b[0m\u001b[0;36m2\u001b[0m\u001b[0;34m)\u001b[0m\u001b[0;34m+\u001b[0m\u001b[0mInteger\u001b[0m\u001b[0;34m(\u001b[0m\u001b[0;36m1\u001b[0m\u001b[0;34m)\u001b[0m\u001b[0;34m\u001b[0m\u001b[0m\n\u001b[0;32m----> 3\u001b[0;31m \u001b[0;32mprint\u001b[0m \u001b[0;34m\"El polinomio \"\u001b[0m\u001b[0;34m,\u001b[0m \u001b[0mf\u001b[0m\u001b[0;34m,\u001b[0m \u001b[0;34m\" es irreducible en F14[x]?: \"\u001b[0m\u001b[0;34m,\u001b[0m \u001b[0mirreducibility_test\u001b[0m\u001b[0;34m(\u001b[0m\u001b[0mf\u001b[0m\u001b[0;34m,\u001b[0m\u001b[0mInteger\u001b[0m\u001b[0;34m(\u001b[0m\u001b[0;36m14\u001b[0m\u001b[0;34m)\u001b[0m\u001b[0;34m)\u001b[0m\u001b[0;34m,\u001b[0m \u001b[0;34m\" \"\u001b[0m\u001b[0;34m,\u001b[0m \u001b[0mf\u001b[0m\u001b[0;34m.\u001b[0m\u001b[0mis_irreducible\u001b[0m\u001b[0;34m(\u001b[0m\u001b[0;34m)\u001b[0m\u001b[0;34m\u001b[0m\u001b[0m\n\u001b[0m\u001b[1;32m      4\u001b[0m \u001b[0mg\u001b[0m \u001b[0;34m=\u001b[0m \u001b[0mR\u001b[0m\u001b[0;34m.\u001b[0m\u001b[0mrandom_element\u001b[0m\u001b[0;34m(\u001b[0m\u001b[0mInteger\u001b[0m\u001b[0;34m(\u001b[0m\u001b[0;36m2\u001b[0m\u001b[0;34m)\u001b[0m\u001b[0;34m)\u001b[0m\u001b[0;34m\u001b[0m\u001b[0m\n\u001b[1;32m      5\u001b[0m \u001b[0;32mprint\u001b[0m \u001b[0;34m\"El polinomio \"\u001b[0m\u001b[0;34m,\u001b[0m \u001b[0mg\u001b[0m\u001b[0;34m,\u001b[0m \u001b[0;34m\" es irreducible en F14[x]?: \"\u001b[0m\u001b[0;34m,\u001b[0m \u001b[0mirreducibility_test\u001b[0m\u001b[0;34m(\u001b[0m\u001b[0mg\u001b[0m\u001b[0;34m,\u001b[0m\u001b[0mInteger\u001b[0m\u001b[0;34m(\u001b[0m\u001b[0;36m14\u001b[0m\u001b[0;34m)\u001b[0m\u001b[0;34m)\u001b[0m\u001b[0;34m,\u001b[0m \u001b[0;34m\" \"\u001b[0m\u001b[0;34m,\u001b[0m \u001b[0mg\u001b[0m\u001b[0;34m.\u001b[0m\u001b[0mis_irreducible\u001b[0m\u001b[0;34m(\u001b[0m\u001b[0;34m)\u001b[0m\u001b[0;34m\u001b[0m\u001b[0m\n",
      "\u001b[0;32m<ipython-input-16-cf8bf247d04e>\u001b[0m in \u001b[0;36mirreducibility_test\u001b[0;34m(f, q)\u001b[0m\n\u001b[1;32m      6\u001b[0m     \u001b[0ms\u001b[0m \u001b[0;34m=\u001b[0m \u001b[0mfast_exp\u001b[0m\u001b[0;34m(\u001b[0m\u001b[0;34m(\u001b[0m\u001b[0mx\u001b[0m\u001b[0;34m)\u001b[0m\u001b[0;34m,\u001b[0m\u001b[0mq\u001b[0m\u001b[0;34m)\u001b[0m\u001b[0;34m\u001b[0m\u001b[0m\n\u001b[1;32m      7\u001b[0m     \u001b[0;32mprint\u001b[0m \u001b[0ms\u001b[0m\u001b[0;34m\u001b[0m\u001b[0m\n\u001b[0;32m----> 8\u001b[0;31m     \u001b[0ma\u001b[0m \u001b[0;34m=\u001b[0m \u001b[0mfast_exp_mod\u001b[0m\u001b[0;34m(\u001b[0m\u001b[0ms\u001b[0m\u001b[0;34m,\u001b[0m\u001b[0mn\u001b[0m\u001b[0;34m,\u001b[0m\u001b[0mf\u001b[0m\u001b[0;34m)\u001b[0m\u001b[0;34m\u001b[0m\u001b[0m\n\u001b[0m\u001b[1;32m      9\u001b[0m     \u001b[0;32mprint\u001b[0m \u001b[0ma\u001b[0m\u001b[0;34m\u001b[0m\u001b[0m\n\u001b[1;32m     10\u001b[0m     \u001b[0;32mif\u001b[0m \u001b[0ma\u001b[0m \u001b[0;34m!=\u001b[0m \u001b[0mx\u001b[0m\u001b[0;34m:\u001b[0m \u001b[0;32mreturn\u001b[0m \u001b[0mFalse\u001b[0m\u001b[0;34m\u001b[0m\u001b[0m\n",
      "\u001b[0;32m<ipython-input-15-66f384d9a0df>\u001b[0m in \u001b[0;36mfast_exp_mod\u001b[0;34m(b, e, m)\u001b[0m\n\u001b[1;32m      2\u001b[0m \u001b[0;31m#Devuelve b^e mod m.\u001b[0m\u001b[0;34m\u001b[0m\u001b[0;34m\u001b[0m\u001b[0m\n\u001b[1;32m      3\u001b[0m     \u001b[0mr\u001b[0m \u001b[0;34m=\u001b[0m \u001b[0mInteger\u001b[0m\u001b[0;34m(\u001b[0m\u001b[0;36m1\u001b[0m\u001b[0;34m)\u001b[0m\u001b[0;34m\u001b[0m\u001b[0m\n\u001b[0;32m----> 4\u001b[0;31m     \u001b[0mb\u001b[0m \u001b[0;34m=\u001b[0m \u001b[0mb\u001b[0m\u001b[0;34m%\u001b[0m\u001b[0mm\u001b[0m\u001b[0;34m\u001b[0m\u001b[0m\n\u001b[0m\u001b[1;32m      5\u001b[0m     \u001b[0;32mwhile\u001b[0m \u001b[0me\u001b[0m\u001b[0;34m>\u001b[0m\u001b[0mInteger\u001b[0m\u001b[0;34m(\u001b[0m\u001b[0;36m0\u001b[0m\u001b[0;34m)\u001b[0m\u001b[0;34m:\u001b[0m\u001b[0;34m\u001b[0m\u001b[0m\n\u001b[1;32m      6\u001b[0m         \u001b[0;32mif\u001b[0m \u001b[0me\u001b[0m\u001b[0;34m%\u001b[0m\u001b[0mInteger\u001b[0m\u001b[0;34m(\u001b[0m\u001b[0;36m2\u001b[0m\u001b[0;34m)\u001b[0m \u001b[0;34m==\u001b[0m \u001b[0mInteger\u001b[0m\u001b[0;34m(\u001b[0m\u001b[0;36m1\u001b[0m\u001b[0;34m)\u001b[0m\u001b[0;34m:\u001b[0m\u001b[0;34m\u001b[0m\u001b[0m\n",
      "\u001b[0;32msage/rings/polynomial/polynomial_element.pyx\u001b[0m in \u001b[0;36msage.rings.polynomial.polynomial_element.Polynomial.__mod__ (build/cythonized/sage/rings/polynomial/polynomial_element.c:29932)\u001b[0;34m()\u001b[0m\n",
      "\u001b[0;32msage/structure/element.pyx\u001b[0m in \u001b[0;36msage.structure.element.coerce_binop.new_method (build/cythonized/sage/structure/element.c:27079)\u001b[0;34m()\u001b[0m\n",
      "\u001b[0;32msage/structure/coerce.pyx\u001b[0m in \u001b[0;36msage.structure.coerce.CoercionModel_cache_maps.canonical_coercion (build/cythonized/sage/structure/coerce.c:12938)\u001b[0;34m()\u001b[0m\n",
      "\u001b[0;31mTypeError\u001b[0m: no common canonical parent for objects with parents: 'Univariate Polynomial Ring in x over Ring of integers modulo 14' and '<type 'tuple'>'"
     ]
    }
   ],
   "source": [
    "R.<x>=PolynomialRing(Integers(14))\n",
    "f = x^21+x^2+1\n",
    "print \"El polinomio \", f, \" es irreducible en F14[x]?: \", irreducibility_test(f,14), \" \", f.is_irreducible()\n",
    "g = R.random_element(2)\n",
    "print \"El polinomio \", g, \" es irreducible en F14[x]?: \", irreducibility_test(g,14), \" \", g.is_irreducible()  \t"
   ]
  },
  {
   "cell_type": "code",
   "execution_count": null,
   "metadata": {},
   "outputs": [],
   "source": [
    "F= factor(2016)\n",
    "primes =[f[0] for f in F for i in range(f[1])]\n",
    "for k in primes:\n",
    "    print k"
   ]
  }
 ],
 "metadata": {
  "kernelspec": {
   "display_name": "SageMath 8.1",
   "language": "",
   "name": "sagemath"
  },
  "language_info": {
   "codemirror_mode": {
    "name": "ipython",
    "version": 2
   },
   "file_extension": ".py",
   "mimetype": "text/x-python",
   "name": "python",
   "nbconvert_exporter": "python",
   "pygments_lexer": "ipython2",
   "version": "2.7.15rc1"
  }
 },
 "nbformat": 4,
 "nbformat_minor": 2
}
