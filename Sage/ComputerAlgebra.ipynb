{
 "cells": [
  {
   "cell_type": "code",
   "execution_count": 1,
   "metadata": {},
   "outputs": [],
   "source": [
    "%display latex"
   ]
  },
  {
   "cell_type": "markdown",
   "metadata": {},
   "source": [
    "<h1><p style=\"color:#16A085\"> Álgebra Computacional </p style></h1>\n",
    "<h2> Índice </h2>\n",
    "\n",
    "- 1. Algoritmo de Euclides\n",
    "    - 1.1 Algoritmo de Euclides para un Dominio Euclídeo\n",
    "    - 1.2 Algoritmo de Euclides extendido para un Dominio Euclídeo\n",
    "    - 1.3 Ejemplos en $\\mathbb{Z}$\n",
    "    - 1.4 Ejemplos en $\\mathbb{Q}[x]$\n",
    "    - 1.5 Ejemplos en $\\mathbb{F}(7)[x]$\n",
    "- 2. Teorema chino del resto\n",
    "    - 2.1 Ejemplos en $\\mathbb{Z}$\n",
    "- 3. MCD en DFU\n",
    "    - 3.1 Ejemplos en $\\mathbb{Z}[x]$\n",
    "- 4. Inverso de un elemento en un cuerpo finito\n",
    "    - 4.1 Ejemplos en $\\mathbb{Z}_p$\n",
    "- 5. Test de irreducibilidad de un polinomio en $\\mathbb{F}_q[x]$\n",
    "    - 5.1 Ejemplos en $\\mathbb{F}(7^2)[x]$\n",
    "- 6. Logaritmo discreto en cuerpos $\\mathbb{F}_q[x]/(f(x))$\n",
    "    - 6.1 Ejemplos en $\\mathbb{F}(3^6)[x]/(bx + 2b)$\n",
    "- 7. Algoritmo de factorización de un polinomio en cuerpo finito\n",
    "    - 7.1 Equal degree-splitting\n",
    "    - 7.2 Equal degree-factorization\n",
    "    - 7.3 Algoritmo de factorización de un polinomio en cuerpo finito\n",
    "    - 7.4 Ejemplos en $\\mathbb{F}(3)[x]$\n",
    "- 8. Algoritmo de factorización de Berlekamp en cuerpo finito\n",
    "    - 8.1 Ejemplos en $\\mathbb{F}(7)[x]$\n",
    "- 9. Algoritmos de factorización en $\\mathbb{Z}[x]$\n",
    "    - 9.1\n",
    "- 10. Algoritmo de primalidad de *AKS*\n",
    "    - 10.1 Ejemplos"
   ]
  },
  {
   "cell_type": "markdown",
   "metadata": {},
   "source": [
    "# 1. Algoritmo de Euclides"
   ]
  },
  {
   "cell_type": "markdown",
   "metadata": {},
   "source": [
    "# 1.1 Algoritmo de Euclides para un Dominio Euclídeo"
   ]
  },
  {
   "cell_type": "code",
   "execution_count": 2,
   "metadata": {},
   "outputs": [],
   "source": [
    "def euclides(a, b, mod):\n",
    "    # a y b son elementos de un DE y mod la función que devuelve el módulo de ese DE\n",
    "    # Devuelve gcd\n",
    "    if (b == 0):\n",
    "        return a\n",
    "    else:\n",
    "        return euclides (b, (mod(a, b)), mod)"
   ]
  },
  {
   "cell_type": "markdown",
   "metadata": {},
   "source": [
    "## 1.2 Algoritmo de Euclides extendido para un Dominio Euclídeo"
   ]
  },
  {
   "cell_type": "code",
   "execution_count": 3,
   "metadata": {},
   "outputs": [],
   "source": [
    "def extendedEuclides(a, b, div_mod):\n",
    "    # a y b son elementos de un DE y div_mod la función que devuelve la dupla cociente, módulo de ese DE\n",
    "    # Devuelve gcd, s, t que verifica gcd = a*s + b*t\n",
    "    if (b == 0):\n",
    "        return a, 1, 0 \n",
    "    else:\n",
    "        q, r = div_mod(a, b)\n",
    "        gcd, d, e = extendedEuclides(b, r, div_mod)\n",
    "        return gcd, e, (d -q * e)"
   ]
  },
  {
   "cell_type": "markdown",
   "metadata": {},
   "source": [
    "## 1.3 Ejemplos en $\\mathbb{Z}$"
   ]
  },
  {
   "cell_type": "code",
   "execution_count": 4,
   "metadata": {
    "scrolled": true
   },
   "outputs": [
    {
     "name": "stdout",
     "output_type": "stream",
     "text": [
      "11\n",
      "(11, 1, -2)\n"
     ]
    }
   ],
   "source": [
    "def mod_int(a, b): return a % b\n",
    "def div_mod_int(a, b): return a // b, a % b\n",
    "\n",
    "print(euclides(55, 22, mod_int))\n",
    "print(extendedEuclides(55, 22, div_mod_int))"
   ]
  },
  {
   "cell_type": "markdown",
   "metadata": {},
   "source": [
    "## 1.4 Ejemplos en $\\mathbb{Q}[x]$"
   ]
  },
  {
   "cell_type": "code",
   "execution_count": 5,
   "metadata": {},
   "outputs": [
    {
     "name": "stdout",
     "output_type": "stream",
     "text": [
      "x + 1\n",
      "(1, -66/25*x^3 + 106/25*x^2 - 157/50*x + 106/25, 66/25*x + 81/25)\n",
      "(x^3 + 2/3*x^2 + x + 2/3, -6/13, 6/13)\n"
     ]
    }
   ],
   "source": [
    "def div_mod_pol(a, b): return a.quo_rem(b);\n",
    "def mod_pol(a, b): _, r =  div_mod_pol(a, b); return r\n",
    "\n",
    "def euclides_pol(f, g):\n",
    "    return euclides(f, g, mod_pol).monic()\n",
    "\n",
    "def extendedEuclides_pol(f, g):\n",
    "    gcd, s, t = extendedEuclides(f, g, div_mod_pol)\n",
    "    k = gcd.leading_coefficient()\n",
    "    return gcd.monic(), s / k, t / k\n",
    "    \n",
    "R.<x> = QQ[]\n",
    "\n",
    "a = (x^2 +2*x + 1)\n",
    "b =  (x^2 - 1)\n",
    "c = (x+2/3)*(x-3/2)*(x^2+1)\n",
    "d = (x+2/3)*(x+2/3)*(x^2+1)\n",
    "\n",
    "print(euclides_pol(a, b))\n",
    "print(extendedEuclides_pol(a, c))\n",
    "print(extendedEuclides_pol(c, d))"
   ]
  },
  {
   "cell_type": "markdown",
   "metadata": {},
   "source": [
    "## 1.5 Ejemplos en $\\mathbb{F}(7)[x]$"
   ]
  },
  {
   "cell_type": "code",
   "execution_count": 6,
   "metadata": {},
   "outputs": [
    {
     "name": "stdout",
     "output_type": "stream",
     "text": [
      "(1, 5*x^2 + 5*x + 4, 3*x^2 + 4*x + 6)\n"
     ]
    }
   ],
   "source": [
    "R.<x> = PolynomialRing(FiniteField(7))\n",
    "f = R.random_element(3)\n",
    "g = R.random_element(3)\n",
    "\n",
    "print(extendedEuclides_pol(f, g))"
   ]
  },
  {
   "cell_type": "markdown",
   "metadata": {},
   "source": [
    "# 2. Teorema chino del resto"
   ]
  },
  {
   "cell_type": "code",
   "execution_count": 7,
   "metadata": {},
   "outputs": [],
   "source": [
    "def chineseRemainder(coprimes, elems, div_mod, rem):\n",
    "    # coprimes: n elementos de un DE coprimos entre sí\n",
    "    # elems: n elemes cualesquiera de un DE\n",
    "    # div _mod: función que devuelve la dupla cociente, módulo\n",
    "    # rem: función que devuelve la operación rem (similar a módulo) de un DE\n",
    "    # Devuelve elemento del DE que verifica f ≡ elem_i mod coprimes_i para todo 0 ≤ i < n \n",
    "    m = 1\n",
    "    for mi in coprimes:\n",
    "        m = m * mi\n",
    "    result = 0;\n",
    "    for i in range(len(coprimes)):\n",
    "        n = m / coprimes[i]\n",
    "        _, a, _ = extendedEuclides(n, coprimes[i], div_mod)\n",
    "        c = rem((a * elems[i]), coprimes[i])\n",
    "        result = c * n + result\n",
    "    return result"
   ]
  },
  {
   "cell_type": "markdown",
   "metadata": {},
   "source": [
    "## 2.1 Ejemplos en $\\mathbb{Z}$"
   ]
  },
  {
   "cell_type": "code",
   "execution_count": 8,
   "metadata": {},
   "outputs": [
    {
     "data": {
      "text/html": [
       "<html><script type=\"math/tex; mode=display\">\\newcommand{\\Bold}[1]{\\mathbf{#1}}40</script></html>"
      ],
      "text/plain": [
       "40"
      ]
     },
     "execution_count": 8,
     "metadata": {},
     "output_type": "execute_result"
    }
   ],
   "source": [
    "def rem(a, b):\n",
    "    r = abs(a) % abs(b)\n",
    "    return r if a >= 0 else -r\n",
    "chineseRemainder([3,5,7],[4,5,33], div_mod_int, rem)"
   ]
  },
  {
   "cell_type": "markdown",
   "metadata": {},
   "source": [
    "# 3. MCD en DFU"
   ]
  },
  {
   "cell_type": "code",
   "execution_count": 9,
   "metadata": {},
   "outputs": [],
   "source": [
    "def gcdDFU(a, b):\n",
    "    # a y b: elementos del DFU sobre los que se calcula el MCD\n",
    "    # Devuelve gcd(a, b)\n",
    "    if a.degree() < b.degree():\n",
    "        return mcdDFU(b, a)\n",
    "    while b != 0:\n",
    "        q, r = (b.leading_coefficient()**(a.degree() - b.degree() + 1) * a).quo_rem(b)\n",
    "        a = b\n",
    "        b = r\n",
    "    return a"
   ]
  },
  {
   "cell_type": "markdown",
   "metadata": {},
   "source": [
    "## 3.1 Ejemplos en $\\mathbb{Z}[x]$"
   ]
  },
  {
   "cell_type": "code",
   "execution_count": 10,
   "metadata": {},
   "outputs": [
    {
     "data": {
      "text/html": [
       "<html><script type=\"math/tex; mode=display\">\\newcommand{\\Bold}[1]{\\mathbf{#1}}x + 1</script></html>"
      ],
      "text/plain": [
       "x + 1"
      ]
     },
     "execution_count": 10,
     "metadata": {},
     "output_type": "execute_result"
    }
   ],
   "source": [
    "R.<x> = ZZ[]\n",
    "a = (x + 1)**2\n",
    "b = (x + 1)*(x - 1)\n",
    "gcdDFU(a, b).monic()"
   ]
  },
  {
   "cell_type": "markdown",
   "metadata": {},
   "source": [
    "# 4. Inverso de un elemento en un cuerpo finito"
   ]
  },
  {
   "cell_type": "code",
   "execution_count": 11,
   "metadata": {},
   "outputs": [],
   "source": [
    "def inverseFiniteField(a, field, div_mod):\n",
    "    # a: elemento de un cuerpo\n",
    "    # field: Cuerpo al que pertenece a\n",
    "    # div_mod: función que devuelve la dupla cociente, módulo\n",
    "    # Devuelve inverso de a en field\n",
    "    _, _, b = extendedEuclides(field.cardinality(), a, div_mod)\n",
    "    return field(b)"
   ]
  },
  {
   "cell_type": "markdown",
   "metadata": {},
   "source": [
    "## 4.1 Ejemplos en $\\mathbb{Z}_p$"
   ]
  },
  {
   "cell_type": "code",
   "execution_count": 12,
   "metadata": {},
   "outputs": [
    {
     "name": "stdout",
     "output_type": "stream",
     "text": [
      "5\n",
      "20\n",
      "52\n"
     ]
    }
   ],
   "source": [
    "Z7 = Integers(7)\n",
    "a = 3\n",
    "print(inverseFiniteField(a, Z7, div_mod_int))\n",
    "\n",
    "Z31 = Integers(31)\n",
    "b = 14\n",
    "print(inverseFiniteField(b, Z31, div_mod_int))\n",
    "\n",
    "Z61 = Integers(61)\n",
    "c = 27\n",
    "print(inverseFiniteField(c, Z61, div_mod_int))"
   ]
  },
  {
   "cell_type": "markdown",
   "metadata": {},
   "source": [
    "# 5. Test de irreducibilidad de un polinomio en $\\mathbb{F}_q[x]$"
   ]
  },
  {
   "cell_type": "code",
   "execution_count": 13,
   "metadata": {},
   "outputs": [],
   "source": [
    "def fast_exp_mod(b,e,m):\n",
    "#Devuelve b^e mod m.\n",
    "    r = 1\n",
    "    b = b % m\n",
    "    while e > 0:\n",
    "        if e % 2 == 1:\n",
    "            r = (r * b) % m\n",
    "        e = e // 2\n",
    "        b  = (b * b) % m\n",
    "    return r \n",
    "\n",
    "def irreducibility_test(f, q):\n",
    "    # Sacado de Shoup\n",
    "    # f elemento de Fq\n",
    "    # q entero de la forma p^n con p primo y n  natural \n",
    "    h = (x) % f\n",
    "    l = f.degree()\n",
    "    for k in range(1, l // 2 + 1):\n",
    "        h = fast_exp_mod(h, q, f)\n",
    "        if gcd(h - x, f) != 1: return False\n",
    "    return True"
   ]
  },
  {
   "cell_type": "markdown",
   "metadata": {},
   "source": [
    "## 5.1 Ejemplos en $\\mathbb{F}(7^2)[x]$"
   ]
  },
  {
   "cell_type": "code",
   "execution_count": 14,
   "metadata": {},
   "outputs": [
    {
     "name": "stdout",
     "output_type": "stream",
     "text": [
      "El polinomio  x^21 + x^2 + 1  es irreducible en F49[x]?:  False .\n",
      "El polinomio  (z + 4)*x^6 + (2*z + 6)*x^5 + z*x^4 + 3*x^3 + (5*z + 3)*x^2 + (z + 2)*x + 2*z + 2  es irreducible en F49[x]?:  False .\n"
     ]
    }
   ],
   "source": [
    "order = 49\n",
    "R.<x>=PolynomialRing(GF(order, 'z'))\n",
    "f = x^21+x^2+1\n",
    "print \"El polinomio \", f, \" es irreducible en F49[x]?: \", irreducibility_test(f,order), \".\"\n",
    "g = R.random_element(6)\n",
    "print \"El polinomio \", g, \" es irreducible en F49[x]?: \", irreducibility_test(g,order), \".\""
   ]
  },
  {
   "cell_type": "markdown",
   "metadata": {},
   "source": [
    "# 6. Logaritmo discreto en cuerpos $\\mathbb{F}_q[x]/(f(x))$"
   ]
  },
  {
   "cell_type": "code",
   "execution_count": 15,
   "metadata": {},
   "outputs": [],
   "source": [
    "def baby_giant(v,g,ordG):\n",
    "    m = ceil(sqrt(ordG))\n",
    "\n",
    "    #  Generamos baby = { g^(j): 0 <= j < n }\n",
    "    baby = [g^0]\n",
    "    for i in  xrange(1,m): baby.append( baby[i-1]*g )\n",
    "    \n",
    "    # Generamos giant = { h*g^(-i): 0 <= i < w }\n",
    "    giant = [v]\n",
    "    inv_gm = g^(-m)\n",
    "    for i in  xrange(1,m): giant.append( giant[i-1]*inv_gm )\n",
    "     \n",
    "    # Tomamos los elementos que están simultáneamente en baby y giant\n",
    "    # Nos quedamos con el que tenga menor índice en giant.\n",
    "    # Para ese índice, calculamos x = j*m + i\n",
    "    # Si la intersección es vacía, no existe el logaritmo\n",
    "    intersection = set(baby).intersection(set(giant))\n",
    "    if len(intersection) == 0: \n",
    "        print (\"No existe logaritmo discreto de %s en base \" + \\\n",
    "        \"%s\") % (v,g)\n",
    "    else:\n",
    "        b = len(giant)\n",
    "        for inters in intersection:\n",
    "            if giant.index(inters) < b:\n",
    "                b = giant.index(inters)\n",
    "                a = baby.index(inters)\n",
    "                x = a+b*m\n",
    "        \n",
    "        #print  'x = a + b*m= (%s) + (%s)*(%d) = (%s)' % (a,b,m,x)  \n",
    "        return x"
   ]
  },
  {
   "cell_type": "markdown",
   "metadata": {},
   "source": [
    "## 6.1 Ejemplos en $\\mathbb{F}(3^6)[x]/(bx + 2b)$"
   ]
  },
  {
   "cell_type": "code",
   "execution_count": 16,
   "metadata": {},
   "outputs": [
    {
     "name": "stdout",
     "output_type": "stream",
     "text": [
      "21\n",
      "No existe logaritmo discreto de b + 1 en base 2*b + 1\n",
      "None\n"
     ]
    }
   ],
   "source": [
    "K.<b> = GF(3^6)\n",
    "R.<x> = PolynomialRing(K)\n",
    "f = b*x + 2*b # polinomio de K[x]\n",
    "I = R.ideal([f]) # ideal generado por bx + 2b\n",
    "Q = R.quotient_ring(I) # K[x]/f(x)\n",
    "\n",
    "Ax = Q(b*x^3 + x + b)\n",
    "ordA = order_from_multiple(Ax,Q.order(),operation='*',check=False)\n",
    "\n",
    "Bx = Ax^245\n",
    "Cx = Q(x^2 + b)\n",
    "\n",
    "print(baby_giant(Bx,Ax,ordA))\n",
    "print(baby_giant(Cx,Ax,ordA))"
   ]
  },
  {
   "cell_type": "markdown",
   "metadata": {},
   "source": [
    "# 7. Algoritmo de factorización de un polinomio en cuerpo finito"
   ]
  },
  {
   "cell_type": "markdown",
   "metadata": {},
   "source": [
    "## 7.1 Equal degree-splitting"
   ]
  },
  {
   "cell_type": "code",
   "execution_count": 17,
   "metadata": {},
   "outputs": [],
   "source": [
    "def eq_degree_splitting(f, q, d):\n",
    "    R = f.parent()\n",
    "    a = R.random_element((1, f.degree() - 1)) # 0 < deg a < deg f\n",
    "    \n",
    "    #if (a.degree() < 1): return \"failure\"\n",
    "\n",
    "    g1 = gcd(a,f)\n",
    "    if (g1 != 1): return g1\n",
    "    \n",
    "    b = fast_exp_mod(a, (q^d - 1) // 2, f)\n",
    "    \n",
    "    g2 = gcd(b - 1, f)  \n",
    "    if (g2 != 1 and g2 != f): return g2\n",
    "    else: return \"failure\""
   ]
  },
  {
   "cell_type": "markdown",
   "metadata": {},
   "source": [
    "## 7.2 Equal degree-factorization"
   ]
  },
  {
   "cell_type": "code",
   "execution_count": 18,
   "metadata": {},
   "outputs": [],
   "source": [
    "def eq_degree_factorization(f,q,d):\n",
    "\n",
    "    if (f.degree() == d): return [f]\n",
    "    while(True):\n",
    "        g = eq_degree_splitting(f, q, d)\n",
    "        if (g != \"failure\"): break\n",
    "    return eq_degree_factorization(g, q, d) + eq_degree_factorization(f // g, q, d)"
   ]
  },
  {
   "cell_type": "markdown",
   "metadata": {},
   "source": [
    "## 7.3 Algoritmo de factorización de un polinomio en cuerpo finito"
   ]
  },
  {
   "cell_type": "code",
   "execution_count": 19,
   "metadata": {},
   "outputs": [],
   "source": [
    "def poly_fact_finite_field(f, q):\n",
    "    R = f.parent()\n",
    "    h = x\n",
    "    v = f / f.leading_coefficient()\n",
    "    i = 0\n",
    "    U = []\n",
    "    while (True): \n",
    "        i = i + 1\n",
    "        h = fast_exp_mod(h, q, f)\n",
    "        g = gcd(h - x, v)\n",
    "        if (g != 1):\n",
    "            G = eq_degree_factorization(g, q, i) #Computar los factores mónicos irreducibles de g\n",
    "            for gj in G:\n",
    "                e = 0\n",
    "                while(gcd(v, gj) != 1): # Calcular multiplicidades     \n",
    "                    v = v // gj \n",
    "                    e = e + 1\n",
    "                U = U + [(gj, e)] \n",
    "        if (v == 1): break\n",
    "    return U"
   ]
  },
  {
   "cell_type": "markdown",
   "metadata": {},
   "source": [
    "## 7.4 Ejemplos en $\\mathbb{F}(3)[x]$"
   ]
  },
  {
   "cell_type": "code",
   "execution_count": 20,
   "metadata": {},
   "outputs": [
    {
     "name": "stdout",
     "output_type": "stream",
     "text": [
      "(x^2 + 1) * (x^2 + x + 2)\n",
      "[(x^2 + x + 2, 1), (x^2 + 1, 1)]\n",
      "[(x, 1), (x^2 + 1, 1), (x^2 + x + 2, 1), (x^3 + 2*x + 1, 1)]\n",
      "x * (x^2 + 1) * (x^2 + x + 2) * (x^3 + 2*x + 1)\n"
     ]
    }
   ],
   "source": [
    "R.<x>=PolynomialRing(GF(3))\n",
    "f=x^4+x^3+x-1\n",
    "f2=x^8+x^7-x^6+x^5-x^3-x^2-x\n",
    "print f.factor()\n",
    "print poly_fact_finite_field(f,3)\n",
    "print poly_fact_finite_field(f2,3)\n",
    "print f2.factor()"
   ]
  },
  {
   "cell_type": "markdown",
   "metadata": {},
   "source": [
    "# 8. Algoritmo de factorización de Berlekamp en cuerpo finito\n"
   ]
  },
  {
   "cell_type": "code",
   "execution_count": 21,
   "metadata": {},
   "outputs": [],
   "source": [
    "def berlekamp(f, q):\n",
    "\n",
    "    R = f.base_ring()\n",
    "    RX = f.parent()\n",
    "    n = f.degree()\n",
    "    pol = 1\n",
    "    aux = fast_exp_mod(x, q, f)\n",
    "    Q = matrix(R, n, n)\n",
    "\n",
    "    # Rellenamos Q de forma que Q[i,j]:= coeficiente de (x^j) en (x^(qi) mod f)\n",
    "\n",
    "    for i in range(n):\n",
    "        for j in range(n): Q[i, j] = 0\n",
    "\n",
    "    # Rellenamos 1er elemento para completar la primera fila\n",
    "    Q[0, 0] = 1\n",
    "\n",
    "    # En cada iteración calculamos (x^(qi) mod f) y rellenamos la fila i-ésima de Q\n",
    "    for i in range(1,n):\n",
    "        pol = (pol * aux) % f\n",
    "        for j in range(pol.degree() + 1): \n",
    "            Q[i, j] = pol[j]\n",
    "\n",
    "    # Calculamos Q-I\n",
    "    for i in range(n): Q[i, i] = Q[i, i] - 1\n",
    "\n",
    "    Q.echelonize() # Efectúa transformación por el metodo de eliminacion Gaussiana\n",
    "    K = Q.kernel() # Espacio vectorial que conforma el núcleo\n",
    "    B = K.basis_matrix() # Base de la Berlekamp algebra\n",
    "    r = K.dimension() # Dimensión del núcleo\n",
    "\n",
    "    if (r == 1): return f\n",
    "\n",
    "    C = random_vector(R, r)\n",
    "\n",
    "    a = RX([0]) # Inicializamos la variable, porque da error si no \n",
    "    \n",
    "    for i in range(r): # Calculamos a = C1*B1 + C2*B2 + ...Cr*Br\n",
    "        a = a + C[i] * RX(B[i].list()) \n",
    "\n",
    "\n",
    "    g1 = gcd(a,f)\n",
    "\n",
    "    if g1 != 1 and g1 != f: \n",
    "        return g1\n",
    "\n",
    "    b = fast_exp_mod(a, ((q - 1) // 2), f)\n",
    "    g2 = gcd(b - 1, f)\n",
    "\n",
    "    if g2 != 1 and g2 != f:\n",
    "        return g2\n",
    "    else: \n",
    "        return \"failure\"\n"
   ]
  },
  {
   "cell_type": "markdown",
   "metadata": {},
   "source": [
    "## 8.1 Ejemplos en $\\mathbb{F}(7)[x]$"
   ]
  },
  {
   "cell_type": "code",
   "execution_count": 38,
   "metadata": {},
   "outputs": [
    {
     "name": "stdout",
     "output_type": "stream",
     "text": [
      "6*x^9 + 2*x^8 + x^7 + 5*x^6 + 5*x^5 + 6*x^3 + 2*x^2 + 3  = \n",
      "= ( x + 3 ) * ( 6*x^8 + 5*x^7 + 5*x^5 + 4*x^4 + 2*x^3 + 2*x + 1 )\n",
      "\n",
      "4*x^10 + 5*x^9 + 3*x^8 + 6*x^7 + 3*x^6 + 4*x^4 + 3*x^2 + 3*x + 1  = \n",
      "= ( x + 2 ) * ( 4*x^9 + 4*x^8 + 2*x^7 + 2*x^6 + 6*x^5 + 2*x^4 + 3*x + 4 )\n"
     ]
    }
   ],
   "source": [
    "R.<x> = PolynomialRing(GF(7))\n",
    "f = 6*x^9 + 2*x^8 + x^7 + 5*x^6 + 5*x^5 + 6*x^3 + 2*x^2 + 3\n",
    "g = berlekamp(f, 7)\n",
    "if g != \"failure\":\n",
    "    print f, \" = \"\n",
    "    print \"= (\", g, \") * (\", f / g, \")\\n\"\n",
    "else:\n",
    "    print \"No se encontró el factor. Intentelo de nuevo\\n\"\n",
    "\n",
    "f = R.random_element((4, 10))\n",
    "g = berlekamp(f, 7)\n",
    "\n",
    "if g != \"failure\":\n",
    "    print f, \" = \"\n",
    "    print \"= (\", g, \") * (\", f / g, \")\"\n",
    "else:\n",
    "    print \"No se encontró el factor. Intentelo de nuevo\""
   ]
  },
  {
   "cell_type": "markdown",
   "metadata": {},
   "source": [
    "# 9. Algoritmos de factorización en $\\mathbb{Z}[x]$"
   ]
  },
  {
   "cell_type": "code",
   "execution_count": 37,
   "metadata": {},
   "outputs": [
    {
     "ename": "TypeError",
     "evalue": "no common canonical parent for objects with parents: 'Univariate Polynomial Ring in x over Integer Ring' and 'Univariate Polynomial Ring in y over Finite Field of size 5'",
     "output_type": "error",
     "traceback": [
      "\u001b[0;31m\u001b[0m",
      "\u001b[0;31mTypeError\u001b[0mTraceback (most recent call last)",
      "\u001b[0;32m<ipython-input-37-bff3fb641d3a>\u001b[0m in \u001b[0;36m<module>\u001b[0;34m()\u001b[0m\n\u001b[1;32m     39\u001b[0m \u001b[0;34m\u001b[0m\u001b[0m\n\u001b[1;32m     40\u001b[0m \u001b[0mf\u001b[0m\u001b[0;34m=\u001b[0m \u001b[0my\u001b[0m\u001b[0;34m**\u001b[0m\u001b[0mInteger\u001b[0m\u001b[0;34m(\u001b[0m\u001b[0;36m4\u001b[0m\u001b[0;34m)\u001b[0m \u001b[0;34m-\u001b[0m\u001b[0mInteger\u001b[0m\u001b[0;34m(\u001b[0m\u001b[0;36m1\u001b[0m\u001b[0;34m)\u001b[0m\u001b[0;34m\u001b[0m\u001b[0m\n\u001b[0;32m---> 41\u001b[0;31m \u001b[0;32mprint\u001b[0m \u001b[0mberlekamp\u001b[0m\u001b[0;34m(\u001b[0m\u001b[0mf\u001b[0m\u001b[0;34m,\u001b[0m \u001b[0mInteger\u001b[0m\u001b[0;34m(\u001b[0m\u001b[0;36m5\u001b[0m\u001b[0;34m)\u001b[0m\u001b[0;34m)\u001b[0m\u001b[0;34m\u001b[0m\u001b[0m\n\u001b[0m\u001b[1;32m     42\u001b[0m \u001b[0mg\u001b[0m \u001b[0;34m=\u001b[0m \u001b[0mx\u001b[0m\u001b[0;34m**\u001b[0m\u001b[0mInteger\u001b[0m\u001b[0;34m(\u001b[0m\u001b[0;36m3\u001b[0m\u001b[0;34m)\u001b[0m \u001b[0;34m+\u001b[0m \u001b[0mInteger\u001b[0m\u001b[0;34m(\u001b[0m\u001b[0;36m2\u001b[0m\u001b[0;34m)\u001b[0m\u001b[0;34m*\u001b[0m\u001b[0mx\u001b[0m\u001b[0;34m**\u001b[0m\u001b[0mInteger\u001b[0m\u001b[0;34m(\u001b[0m\u001b[0;36m2\u001b[0m\u001b[0;34m)\u001b[0m \u001b[0;34m-\u001b[0m \u001b[0mx\u001b[0m \u001b[0;34m-\u001b[0m \u001b[0mInteger\u001b[0m\u001b[0;34m(\u001b[0m\u001b[0;36m2\u001b[0m\u001b[0;34m)\u001b[0m\u001b[0;34m\u001b[0m\u001b[0m\n\u001b[1;32m     43\u001b[0m \u001b[0mh\u001b[0m \u001b[0;34m=\u001b[0m \u001b[0mx\u001b[0m \u001b[0;34m-\u001b[0m \u001b[0mInteger\u001b[0m\u001b[0;34m(\u001b[0m\u001b[0;36m2\u001b[0m\u001b[0;34m)\u001b[0m\u001b[0;34m\u001b[0m\u001b[0m\n",
      "\u001b[0;32m<ipython-input-21-52757a45e9ee>\u001b[0m in \u001b[0;36mberlekamp\u001b[0;34m(f, q)\u001b[0m\n\u001b[1;32m      5\u001b[0m     \u001b[0mn\u001b[0m \u001b[0;34m=\u001b[0m \u001b[0mf\u001b[0m\u001b[0;34m.\u001b[0m\u001b[0mdegree\u001b[0m\u001b[0;34m(\u001b[0m\u001b[0;34m)\u001b[0m\u001b[0;34m\u001b[0m\u001b[0m\n\u001b[1;32m      6\u001b[0m     \u001b[0mpol\u001b[0m \u001b[0;34m=\u001b[0m \u001b[0mInteger\u001b[0m\u001b[0;34m(\u001b[0m\u001b[0;36m1\u001b[0m\u001b[0;34m)\u001b[0m\u001b[0;34m\u001b[0m\u001b[0m\n\u001b[0;32m----> 7\u001b[0;31m     \u001b[0maux\u001b[0m \u001b[0;34m=\u001b[0m \u001b[0mfast_exp_mod\u001b[0m\u001b[0;34m(\u001b[0m\u001b[0mx\u001b[0m\u001b[0;34m,\u001b[0m \u001b[0mq\u001b[0m\u001b[0;34m,\u001b[0m \u001b[0mf\u001b[0m\u001b[0;34m)\u001b[0m\u001b[0;34m\u001b[0m\u001b[0m\n\u001b[0m\u001b[1;32m      8\u001b[0m     \u001b[0mQ\u001b[0m \u001b[0;34m=\u001b[0m \u001b[0mmatrix\u001b[0m\u001b[0;34m(\u001b[0m\u001b[0mR\u001b[0m\u001b[0;34m,\u001b[0m \u001b[0mn\u001b[0m\u001b[0;34m,\u001b[0m \u001b[0mn\u001b[0m\u001b[0;34m)\u001b[0m\u001b[0;34m\u001b[0m\u001b[0m\n\u001b[1;32m      9\u001b[0m \u001b[0;34m\u001b[0m\u001b[0m\n",
      "\u001b[0;32m<ipython-input-13-c4c58ed4f774>\u001b[0m in \u001b[0;36mfast_exp_mod\u001b[0;34m(b, e, m)\u001b[0m\n\u001b[1;32m      2\u001b[0m \u001b[0;31m#Devuelve b^e mod m.\u001b[0m\u001b[0;34m\u001b[0m\u001b[0;34m\u001b[0m\u001b[0m\n\u001b[1;32m      3\u001b[0m     \u001b[0mr\u001b[0m \u001b[0;34m=\u001b[0m \u001b[0mInteger\u001b[0m\u001b[0;34m(\u001b[0m\u001b[0;36m1\u001b[0m\u001b[0;34m)\u001b[0m\u001b[0;34m\u001b[0m\u001b[0m\n\u001b[0;32m----> 4\u001b[0;31m     \u001b[0mb\u001b[0m \u001b[0;34m=\u001b[0m \u001b[0mb\u001b[0m \u001b[0;34m%\u001b[0m \u001b[0mm\u001b[0m\u001b[0;34m\u001b[0m\u001b[0m\n\u001b[0m\u001b[1;32m      5\u001b[0m     \u001b[0;32mwhile\u001b[0m \u001b[0me\u001b[0m \u001b[0;34m>\u001b[0m \u001b[0mInteger\u001b[0m\u001b[0;34m(\u001b[0m\u001b[0;36m0\u001b[0m\u001b[0;34m)\u001b[0m\u001b[0;34m:\u001b[0m\u001b[0;34m\u001b[0m\u001b[0m\n\u001b[1;32m      6\u001b[0m         \u001b[0;32mif\u001b[0m \u001b[0me\u001b[0m \u001b[0;34m%\u001b[0m \u001b[0mInteger\u001b[0m\u001b[0;34m(\u001b[0m\u001b[0;36m2\u001b[0m\u001b[0;34m)\u001b[0m \u001b[0;34m==\u001b[0m \u001b[0mInteger\u001b[0m\u001b[0;34m(\u001b[0m\u001b[0;36m1\u001b[0m\u001b[0;34m)\u001b[0m\u001b[0;34m:\u001b[0m\u001b[0;34m\u001b[0m\u001b[0m\n",
      "\u001b[0;32msage/rings/polynomial/polynomial_element.pyx\u001b[0m in \u001b[0;36msage.rings.polynomial.polynomial_element.Polynomial.__mod__ (build/cythonized/sage/rings/polynomial/polynomial_element.c:29932)\u001b[0;34m()\u001b[0m\n",
      "\u001b[0;32msage/structure/element.pyx\u001b[0m in \u001b[0;36msage.structure.element.coerce_binop.new_method (build/cythonized/sage/structure/element.c:27079)\u001b[0;34m()\u001b[0m\n",
      "\u001b[0;32msage/structure/coerce.pyx\u001b[0m in \u001b[0;36msage.structure.coerce.CoercionModel_cache_maps.canonical_coercion (build/cythonized/sage/structure/coerce.c:12938)\u001b[0;34m()\u001b[0m\n",
      "\u001b[0;31mTypeError\u001b[0m: no common canonical parent for objects with parents: 'Univariate Polynomial Ring in x over Integer Ring' and 'Univariate Polynomial Ring in y over Finite Field of size 5'"
     ]
    }
   ],
   "source": [
    "def hensel_step(m, f, g, h, s, t, base = None):\n",
    "  \n",
    "    base = base or m # en el paso esto es m^(l-1)\n",
    "    m_l = base * m # la nueva elevación: m^l\n",
    "\n",
    "    ## Resolvemos las ecuaciones modulo la base m_l\n",
    "\n",
    "    e = (f - g * h) % m_l\n",
    "    \n",
    "    (q, r) = (s * e).quo_rem(h)\n",
    "    (q, r) = tuple([k % m_l for k in (q,r)])\n",
    "\n",
    "    g_ = (g + t * e + q * g) % m_l\n",
    "    h_ = (h + r) % m_l\n",
    "\n",
    "\n",
    "    b = (s * g_ + t * h_ - 1) % m_l\n",
    "\n",
    "    (c, d) = (s * b).quo_rem(h_) # calculamos c,d\n",
    "    (c, d) = tuple([k % m_l for k in (c , d)]) # les hacemos el módulo\n",
    "\n",
    "    s_ = (s - d) % m_l\n",
    "    t_ = (t - t*b - c*g_) % m_l\n",
    "\n",
    "    return (g_, h_, s_, t_)\n",
    "\n",
    "\n",
    "def hensel_lift(p, l, f, g, h, s, t):\n",
    "    m = 1\n",
    "    for i in range(1, l):\n",
    "        m = m * p\n",
    "        (g, h, s, t) = hensel_step(p, f, g, h, s, t, base = m)\n",
    "    return (g, h, s, t)\n",
    "\n",
    "m = 5\n",
    "\n",
    "K.<y> = PolynomialRing(GF(5))\n",
    "R.<x> = PolynomialRing(ZZ)\n",
    "\n",
    "f= y^4 -1\n",
    "print berlekamp(f, 5)\n",
    "g = x^3 + 2*x^2 - x - 2\n",
    "h = x - 2\n",
    "(d,s,t) = tuple([R(k) for k in xgcd(K(g),K(h))])\n",
    "print (K(h)*K(g)== K(f))\n",
    "\n",
    "print \"EXAMPLE 15.8 (continued); page 447 Modern Computer Algebra\"\n",
    "print \"m =\",m\n",
    "print \"f =\",f\n",
    "print \"g =\",g\n",
    "print \"h =\",h\n",
    "print \"s =\",s\n",
    "print \"t =\",t\n",
    "print \"(g',h',s',t') mod %d =\" % m^4,hensel_lift(m,4,f,g,h,s,t)\n"
   ]
  },
  {
   "cell_type": "code",
   "execution_count": 24,
   "metadata": {},
   "outputs": [
    {
     "data": {
      "text/html": [
       "<html><script type=\"math/tex; mode=display\">\\newcommand{\\Bold}[1]{\\mathbf{#1}}\\left(0, x^{3} + 2x^{2} - x - 2\\right)</script></html>"
      ],
      "text/plain": [
       "(0, x^3 + 2*x^2 - x - 2)"
      ]
     },
     "execution_count": 24,
     "metadata": {},
     "output_type": "execute_result"
    }
   ],
   "source": [
    "g.quo_rem(625)\n"
   ]
  },
  {
   "cell_type": "code",
   "execution_count": null,
   "metadata": {},
   "outputs": [],
   "source": []
  },
  {
   "cell_type": "markdown",
   "metadata": {},
   "source": [
    "# 10. Algoritmo de primalidad de *AKS*"
   ]
  },
  {
   "cell_type": "code",
   "execution_count": 25,
   "metadata": {},
   "outputs": [],
   "source": [
    "def ordr (r, n, m):\n",
    "    k = 1\n",
    "    nextR = False\n",
    "    while not nextR and k <= m:\n",
    "        mod = power_mod(n, k, r)\n",
    "        nextR = (mod == 1) or (mod == 0)\n",
    "        k += 1\n",
    "    return nextR\n",
    "\n",
    "def AKS(n):\n",
    "    # comprobamos que no sea potencia de la forma a^b\n",
    "    for b in xrange(2, log(n, 2)):\n",
    "        a = n ^ (1 / b)\n",
    "        if floor(a) == a: return 'composite'\n",
    "\n",
    "    # Obtenemos r tal que O_r(n) > log_2(n)^2\n",
    "    r = 1\n",
    "    nextR = True\n",
    "    maxK = pari(log(n, 2) ^ 2).floor() \n",
    "    while nextR:\n",
    "        r += 1\n",
    "        nextR = False\n",
    "        nextR = ordr(r, n, maxK)\n",
    "\n",
    "    # si 1 < gcd(a,n) < n para a en (1,r] -> compuesto\n",
    "    for a in range(2, r + 1):\n",
    "        mcd = euclides(a,n, mod_int)\n",
    "        if 1 < mcd  and mcd < n: return 'composite'\n",
    "\n",
    "    # si r>=n -> primo\n",
    "    if(r >= n): return 'prime'\n",
    "\n",
    "    # para a en [1,N] si (x+a)^n == x^n+ a en (Z_n[x] / (x^r - 1)) -> comp\n",
    "    N = pari(sqrt(euler_phi(r)) * log(n, 2)).floor()\n",
    "    for a in xrange(1, N + 1):\n",
    "        R.<x> = PolynomialRing(Integers(n))\n",
    "        S = R.quotient((x ^ r) - 1)\n",
    "        c = S((x ^ n + a))\n",
    "        d = (x + a) ^ n\n",
    "\n",
    "        if (c != d): return 'composite'\n",
    "    return 'prime'"
   ]
  },
  {
   "cell_type": "markdown",
   "metadata": {},
   "source": [
    "## 10.1 Ejemplos"
   ]
  },
  {
   "cell_type": "code",
   "execution_count": 27,
   "metadata": {},
   "outputs": [
    {
     "name": "stdout",
     "output_type": "stream",
     "text": [
      "composite\n",
      "prime\n",
      "prime\n"
     ]
    }
   ],
   "source": [
    "print(AKS(18))\n",
    "print(AKS(11))\n",
    "print(AKS(7))"
   ]
  },
  {
   "cell_type": "code",
   "execution_count": null,
   "metadata": {},
   "outputs": [],
   "source": [
    "def hensel_step(f,m,g,h,s,t):\n",
    "    \"\"\"\n",
    "    INPUT: f,g,h,s,t polynomials of ZZ[x] and m a prime power such that\n",
    "        f is squarefree, h is monic and h,g are coprime such that\n",
    "        f = g*h mod m and s*g + t*h = 1 mod m\n",
    "    OUTPUT:\n",
    "        f = g_star*h_star mod m^2 and s_star*g_star + t_star*h_star = 1 mod m^2\n",
    "    \"\"\"\n",
    "    # Type checking\n",
    "    ZZX = ZZ[x]\n",
    "    assert f.parent() == ZZX, \"f is not in ZZX\"\n",
    "    assert g.parent() == ZZX, \"g is not in ZZX\"\n",
    "    assert h.parent() == ZZX, \"h is not in ZZX\"\n",
    "    assert s.parent() == ZZX, \"s is not in ZZX\"\n",
    "    assert t.parent() == ZZX, \"t is not in ZZX\"\n",
    "    assert m.parent() == ZZ, \"m is not in ZZ\"\n",
    "\n",
    "    # Type coercion\n",
    "    GFm2X = GF(m^2)[x]\n",
    "    f = GFm2X(f)\n",
    "    g = GFm2X(g)\n",
    "    s = GFm2X(s)\n",
    "    t = GFm2X(t)\n",
    "\n",
    "    # Compute elevated factors\n",
    "    e = f - g*h\n",
    "    q = (s*e) // h\n",
    "    r = (s*e) % h\n",
    "    print(\"e={}, q={}, r={}\".format(e,q,r))\n",
    "\n",
    "    g_star = g + t*e + q*g\n",
    "    h_star = h + r\n",
    "    #print(\"g_star = {}, h_star={}\".format(g,h))\n",
    "\n",
    "    # Compute elevated cofactors\n",
    "    b = s*g_star + t*h_star - 1\n",
    "    c = (s*b) // h_star\n",
    "    d = (s*b) % h_star\n",
    "\n",
    "    s_star = s - d\n",
    "    t_star = t - t*b - c* g_star\n",
    "\n",
    "    # Recover representants\n",
    "    g_star = ZZX(g_star)\n",
    "    h_star = ZZX(h_star)\n",
    "    s_star = ZZX(s_star)\n",
    "    t_star = ZZX(t_star)\n",
    "\n",
    "    return (g_star, h_star, s_star, t_star)\n",
    "\n",
    "def multifactor_hensel_lifting(f, factors_mod_p, p, l):\n",
    "    \"\"\"\n",
    "    INPUT:\n",
    "        f a squarefree monic polynomial\n",
    "        factors_mod_p :- a list of irreducible gi such that f = g1*...*gs mod p\n",
    "        l :- the target power\n",
    "    OUTPUT:\n",
    "        factors_mod_p_l :- a list of irreducible gi such that f = g1*...*gr mod p^l\n",
    "    \"\"\"\n",
    "    #print(\"multifactor hensel lifting call\")\n",
    "    ZZX = ZZ[x]; GFpX = GF(p)[x]\n",
    "    # type checking\n",
    "    assert f.parent() == ZZX, \"f is not in ZZX!\"\n",
    "    for factor in factors_mod_p:\n",
    "        assert factor.parent() == ZZX, \"factor is not in ZZX!\"\n",
    "\n",
    "    if len(factors_mod_p) == 1: return [ZZX(f / f.leading_coefficient())], p\n",
    "    k = len(factors_mod_p) // 2\n",
    "    g = reduce(lambda a,b: a*b, factors_mod_p[:k]) * f.leading_coefficient()\n",
    "    h = reduce(lambda a,b: a*b, factors_mod_p[k:])\n",
    "    r,s,t = extended_euclides(GFpX(g),GFpX(h))\n",
    "    s = ZZX(s); t = ZZX(t)\n",
    "    #assert r==1, \"g and h are not coprime!\" # Since f is squarefree, g and h are coprime\n",
    "    m = p\n",
    "    while m < p^l:\n",
    "        #print(\"initiating hensel step\")\n",
    "        g,h,s,t = hensel_step(f,m,g,h,s,t)\n",
    "        m = m^2\n",
    "    g_factors_mod_p_l, _ = multifactor_hensel_lifting(g, factors_mod_p[:k], p, l)\n",
    "    h_factors_mod_p_l, _ = multifactor_hensel_lifting(h, factors_mod_p[k:], p, l)\n",
    "\n",
    "    return g_factors_mod_p_l + h_factors_mod_p_l, m\n"
   ]
  }
 ],
 "metadata": {
  "kernelspec": {
   "display_name": "SageMath 8.1",
   "language": "",
   "name": "sagemath"
  },
  "language_info": {
   "codemirror_mode": {
    "name": "ipython",
    "version": 2
   },
   "file_extension": ".py",
   "mimetype": "text/x-python",
   "name": "python",
   "nbconvert_exporter": "python",
   "pygments_lexer": "ipython2",
   "version": "2.7.15rc1"
  }
 },
 "nbformat": 4,
 "nbformat_minor": 2
}
