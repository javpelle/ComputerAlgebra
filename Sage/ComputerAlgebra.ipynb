{
 "cells": [
  {
   "cell_type": "code",
   "execution_count": 2,
   "metadata": {},
   "outputs": [],
   "source": [
    "%display latex"
   ]
  },
  {
   "cell_type": "markdown",
   "metadata": {},
   "source": [
    "<h1><p style=\"color:#16A085\"> Álgebra Computacional </p style></h1>\n",
    "<h2> Índice </h2>\n",
    "\n",
    "- 1. Algoritmo de Euclides\n",
    "    - 1.1 Algoritmo de Euclides para un Dominio Euclídeo\n",
    "    - 1.2 Algoritmo de Euclides extendido para un Dominio Euclídeo\n",
    "    - 1.3 Ejemplos en $\\mathbb{Z}$\n",
    "    - 1.4 Ejemplos en $\\mathbb{Q}[x]$\n",
    "    - 1.5 Ejemplos en $\\mathbb{R}[x]$\n",
    "    - 1.6 Ejemplos en $\\mathbb{Z}[i]$\n",
    "    "
   ]
  },
  {
   "cell_type": "markdown",
   "metadata": {},
   "source": [
    "# 1. Algoritmo de Euclides"
   ]
  },
  {
   "cell_type": "markdown",
   "metadata": {},
   "source": [
    "# 1.1 Algoritmo de Euclides para un Dominio Euclídeo"
   ]
  },
  {
   "cell_type": "code",
   "execution_count": 40,
   "metadata": {},
   "outputs": [],
   "source": [
    "def euclides(a, b, mod):\n",
    "    if (b == 0):\n",
    "        return a\n",
    "    else:\n",
    "        return euclides (b, (mod(a, b)), mod)"
   ]
  },
  {
   "cell_type": "markdown",
   "metadata": {},
   "source": [
    "## 1.2 Algoritmo de Euclides extendido para un Dominio Euclídeo"
   ]
  },
  {
   "cell_type": "code",
   "execution_count": 41,
   "metadata": {},
   "outputs": [],
   "source": [
    "def extendedEuclides(a, b, div_mod):\n",
    "    if (b == 0):\n",
    "        return a, 1, 0 \n",
    "    else:\n",
    "        q, r = div_mod(a, b)\n",
    "        gcd, d, e = extendedEuclides(b, r, div_mod)\n",
    "        return gcd, e, (d -q * e)"
   ]
  },
  {
   "cell_type": "markdown",
   "metadata": {},
   "source": [
    "## 1.3 Ejemplos en $\\mathbb{Z}$"
   ]
  },
  {
   "cell_type": "code",
   "execution_count": 42,
   "metadata": {
    "scrolled": true
   },
   "outputs": [
    {
     "name": "stdout",
     "output_type": "stream",
     "text": [
      "11\n",
      "(11, 1, -2)\n"
     ]
    }
   ],
   "source": [
    "def mod_int(a, b): return a % b\n",
    "def div_mod_int(a, b): return a // b, a % b\n",
    "\n",
    "print(euclides(55, 22, mod_int))\n",
    "print(extendedEuclides(55, 22, div_mod_int))"
   ]
  },
  {
   "cell_type": "markdown",
   "metadata": {},
   "source": [
    "## 1.4 Ejemplos en $\\mathbb{Q}[x]$"
   ]
  },
  {
   "cell_type": "code",
   "execution_count": 43,
   "metadata": {},
   "outputs": [
    {
     "name": "stdout",
     "output_type": "stream",
     "text": [
      "2*x + 2\n",
      "(2*x + 2, 1, -1)\n",
      "x^3 + 2/3*x^2 + x + 2/3\n"
     ]
    }
   ],
   "source": [
    "def div_mod_pol(a, b): return a.quo_rem(b);\n",
    "def mod_pol(a, b): _, r =  div_mod_pol(a, b); return r\n",
    "    \n",
    "R.<x> = QQ[]\n",
    "\n",
    "a = (x^2 +2*x + 1)\n",
    "b =  (x^2 - 1)\n",
    "\n",
    "print(euclides(a, b, mod_pol))\n",
    "print(extendedEuclides(a, b, div_mod_pol))\n",
    "\n",
    "c = (x+2/3)*(x-3/2)*(x^2+1)\n",
    "d = (x+2/3)*(x+2/3)*(x^2+1)\n",
    "print(euclides(c, d, mod_pol)).monic()"
   ]
  },
  {
   "cell_type": "markdown",
   "metadata": {},
   "source": [
    "# 2. Teorema chino del resto"
   ]
  },
  {
   "cell_type": "code",
   "execution_count": 67,
   "metadata": {},
   "outputs": [],
   "source": [
    "def chineseRemainder(coprimes, elems, div_mod, rem):\n",
    "    m = 1\n",
    "    for mi in coprimes:\n",
    "        m = m * mi\n",
    "    result = 0;\n",
    "    for i in range(len(coprimes)):\n",
    "        n = m / coprimes[i]\n",
    "        _, a, _ = extendedEuclides(n, coprimes[i], div_mod)\n",
    "        c = rem((a * elems[i]), coprimes[i])\n",
    "        result = c * n + result\n",
    "    return result"
   ]
  },
  {
   "cell_type": "markdown",
   "metadata": {},
   "source": [
    "## 2.1 Ejemplos en $\\mathbb{Z}$"
   ]
  },
  {
   "cell_type": "code",
   "execution_count": 68,
   "metadata": {},
   "outputs": [
    {
     "data": {
      "text/plain": [
       "40"
      ]
     },
     "execution_count": 68,
     "metadata": {},
     "output_type": "execute_result"
    }
   ],
   "source": [
    "def rem(a, b):\n",
    "    r = abs(a) % abs(b)\n",
    "    return r if a >= 0 else -r\n",
    "chineseRemainder([3,5,7],[4,5,33], div_mod_int, rem)"
   ]
  },
  {
   "cell_type": "markdown",
   "metadata": {},
   "source": [
    "# 3. MCD en DFU"
   ]
  },
  {
   "cell_type": "code",
   "execution_count": 10,
   "metadata": {},
   "outputs": [],
   "source": [
    "def gcdDFU(a, b):\n",
    "    if a.degree() < b.degree():\n",
    "        return mcdDFU(b,a)\n",
    "    while b != 0:\n",
    "        q,r = (b.leading_coefficient()**(a.degree() - b.degree() + 1) * a).quo_rem(b)\n",
    "        a = b\n",
    "        b = r\n",
    "    return a"
   ]
  },
  {
   "cell_type": "markdown",
   "metadata": {},
   "source": [
    "## 3.1 Ejemplos en $\\mathbb{Z}[x]$"
   ]
  },
  {
   "cell_type": "code",
   "execution_count": 11,
   "metadata": {},
   "outputs": [
    {
     "data": {
      "text/plain": [
       "x + 1"
      ]
     },
     "execution_count": 11,
     "metadata": {},
     "output_type": "execute_result"
    }
   ],
   "source": [
    "R.<x> = ZZ[]\n",
    "a = (x + 1)**2\n",
    "b = (x + 1)*(x - 1)\n",
    "gcdDFU(a, b).monic()"
   ]
  },
  {
   "cell_type": "markdown",
   "metadata": {},
   "source": [
    "# 4. Inverso de un elemento en un cuerpo finito"
   ]
  },
  {
   "cell_type": "code",
   "execution_count": 12,
   "metadata": {},
   "outputs": [],
   "source": [
    "def inverseFiniteField(a, field, div_mod):\n",
    "    _, _, b = extendedEuclides(field.cardinality(), a, div_mod)\n",
    "    return field(b)"
   ]
  },
  {
   "cell_type": "markdown",
   "metadata": {},
   "source": [
    "## 4.1 Ejemplos en $\\mathbb{Z}_p$"
   ]
  },
  {
   "cell_type": "code",
   "execution_count": 13,
   "metadata": {},
   "outputs": [
    {
     "name": "stdout",
     "output_type": "stream",
     "text": [
      "5\n",
      "20\n",
      "52\n"
     ]
    }
   ],
   "source": [
    "Z7 = Integers(7)\n",
    "a = 3\n",
    "print(inverseFiniteField(a, Z7, div_mod_int))\n",
    "\n",
    "Z31 = Integers(31)\n",
    "b = 14\n",
    "print(inverseFiniteField(b, Z31, div_mod_int))\n",
    "\n",
    "Z61 = Integers(61)\n",
    "c = 27\n",
    "print(inverseFiniteField(c, Z61, div_mod_int))"
   ]
  },
  {
   "cell_type": "markdown",
   "metadata": {},
   "source": [
    "# 5. Test de irreducibilidad de un polinomio en $\\mathbb{F}_q[x]$"
   ]
  },
  {
   "cell_type": "code",
   "execution_count": 75,
   "metadata": {},
   "outputs": [],
   "source": [
    "def fast_exp_mod(b,e,m):\n",
    "#Devuelve b^e mod m.\n",
    "    r = 1\n",
    "    b = b%m\n",
    "    while e>0:\n",
    "        if e%2 == 1:\n",
    "            r = (r*b)%m\n",
    "        e = e//2\n",
    "        b  = (b*b)%m\n",
    "    return r \n",
    "\n",
    "def irreducibility_test(f,q):\n",
    "    h = (x) % f\n",
    "    l = f.degree()\n",
    "    for k in range(1, l // 2 + 1):\n",
    "        h = fast_exp_mod(h,q,f)\n",
    "        if gcd(h-x, f) != 1: return False\n",
    "    return True"
   ]
  },
  {
   "cell_type": "code",
   "execution_count": 81,
   "metadata": {},
   "outputs": [
    {
     "name": "stdout",
     "output_type": "stream",
     "text": [
      "El polinomio  x^21 + x^2 + 1  es irreducible en F2[x]?:  True   False\n",
      "El polinomio  3*x^50 + 6*x^49 + x^48 + 2*x^47 + 6*x^46 + 4*x^45 + 2*x^44 + 2*x^43 + 2*x^42 + 3*x^41 + 2*x^40 + 6*x^39 + 5*x^38 + x^37 + 4*x^36 + 2*x^35 + 2*x^33 + 2*x^32 + 6*x^31 + 4*x^30 + 3*x^29 + 5*x^28 + 5*x^27 + x^26 + x^25 + x^24 + 3*x^23 + 2*x^21 + 3*x^20 + 6*x^19 + x^17 + 6*x^15 + 2*x^14 + 2*x^13 + 3*x^12 + 3*x^10 + 5*x^9 + 2*x^8 + 6*x^7 + 5*x^6 + 4*x^5 + 5*x^4 + 6*x^3 + 2*x^2 + 5*x + 5  es irreducible en F2[x]?:  True   False\n"
     ]
    }
   ],
   "source": [
    "R.<x>=PolynomialRing(GF(7))\n",
    "f = x^21+x^2+1\n",
    "print \"El polinomio \", f, \" es irreducible en F2[x]?: \", irreducibility_test(f,2), \" \", f.is_irreducible()\n",
    "g = R.random_element(50)\n",
    "print \"El polinomio \", g, \" es irreducible en F2[x]?: \", irreducibility_test(g,2), \" \", g.is_irreducible()"
   ]
  },
  {
   "cell_type": "code",
   "execution_count": 82,
   "metadata": {},
   "outputs": [
    {
     "name": "stdout",
     "output_type": "stream",
     "text": [
      "2\n",
      "2\n",
      "2\n",
      "2\n",
      "2\n",
      "3\n",
      "3\n",
      "7\n"
     ]
    }
   ],
   "source": [
    "F= factor(2016)\n",
    "primes =[f[0] for f in F for i in range(f[1])]\n",
    "for k in primes:\n",
    "    print k"
   ]
  },
  {
   "cell_type": "markdown",
   "metadata": {},
   "source": [
    "# 6. Logaritmo discreto en cuerpos $\\mathbb{F}_q[x]/(f(x))$"
   ]
  },
  {
   "cell_type": "code",
   "execution_count": null,
   "metadata": {},
   "outputs": [],
   "source": []
  }
 ],
 "metadata": {
  "kernelspec": {
   "display_name": "SageMath 8.4",
   "language": "",
   "name": "sagemath"
  },
  "language_info": {
   "codemirror_mode": {
    "name": "ipython",
    "version": 2
   },
   "file_extension": ".py",
   "mimetype": "text/x-python",
   "name": "python",
   "nbconvert_exporter": "python",
   "pygments_lexer": "ipython2",
   "version": "2.7.15"
  }
 },
 "nbformat": 4,
 "nbformat_minor": 2
}
