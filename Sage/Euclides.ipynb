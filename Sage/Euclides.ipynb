{
 "cells": [
  {
   "cell_type": "code",
   "execution_count": 1,
   "metadata": {},
   "outputs": [],
   "source": [
    "%display latex"
   ]
  },
  {
   "cell_type": "markdown",
   "metadata": {},
   "source": [
    "# Euclidean algorithm for integers: $\\mathbb{Z}$ and $\\mathbb{Z}_p$"
   ]
  },
  {
   "cell_type": "code",
   "execution_count": 2,
   "metadata": {},
   "outputs": [],
   "source": [
    "# Euclidean algorithm for integers - ZZ and ZZp\n",
    "def euclides_int(a, b, p=1):\n",
    "    if(p==1):\n",
    "        p = a+b\n",
    "    c = a%p\n",
    "    d = b%p\n",
    "    while(d!=0):\n",
    "        r = (c%d)%p\n",
    "        c = d\n",
    "        d = r\n",
    "    return c"
   ]
  },
  {
   "cell_type": "markdown",
   "metadata": {},
   "source": [
    "### Examples"
   ]
  },
  {
   "cell_type": "code",
   "execution_count": 4,
   "metadata": {},
   "outputs": [
    {
     "data": {
      "text/html": [
       "<html><script type=\"math/tex; mode=display\">\\newcommand{\\Bold}[1]{\\mathbf{#1}}12</script></html>"
      ],
      "text/plain": [
       "12"
      ]
     },
     "execution_count": 4,
     "metadata": {},
     "output_type": "execute_result"
    }
   ],
   "source": [
    "euclides_int(12, 97*12)"
   ]
  },
  {
   "cell_type": "code",
   "execution_count": 5,
   "metadata": {},
   "outputs": [
    {
     "data": {
      "text/html": [
       "<html><script type=\"math/tex; mode=display\">\\newcommand{\\Bold}[1]{\\mathbf{#1}}2</script></html>"
      ],
      "text/plain": [
       "2"
      ]
     },
     "execution_count": 5,
     "metadata": {},
     "output_type": "execute_result"
    }
   ],
   "source": [
    "euclides_int(12, 97*12, 5)"
   ]
  },
  {
   "cell_type": "markdown",
   "metadata": {},
   "source": [
    "# Euclidean algorithm for polynomials: $\\mathbb{Q}[x]$, $\\mathbb{F}_p[x]$ (and $\\mathbb{F}_q[x]$ ?)"
   ]
  },
  {
   "cell_type": "code",
   "execution_count": 5,
   "metadata": {},
   "outputs": [],
   "source": [
    "# Euclidean algorithm for polynomials - QQ[x], Fp[x], Fq[x](??)\n",
    "def euclides_pol(a, b):\n",
    "    c = a\n",
    "    d = b\n",
    "    while(d != 0):\n",
    "        q, r = c.quo_rem(d)\n",
    "        c = d\n",
    "        d = r\n",
    "    return c.monic()"
   ]
  },
  {
   "cell_type": "markdown",
   "metadata": {},
   "source": [
    "### Examples"
   ]
  },
  {
   "cell_type": "markdown",
   "metadata": {},
   "source": [
    "Example in $\\mathbb{Q}[x]$"
   ]
  },
  {
   "cell_type": "code",
   "execution_count": 7,
   "metadata": {},
   "outputs": [
    {
     "name": "stdout",
     "output_type": "stream",
     "text": [
      "x + 1\n"
     ]
    },
    {
     "data": {
      "text/html": [
       "<html><script type=\"math/tex; mode=display\">\\newcommand{\\Bold}[1]{\\mathbf{#1}}x + 1</script></html>"
      ],
      "text/plain": [
       "x + 1"
      ]
     },
     "execution_count": 7,
     "metadata": {},
     "output_type": "execute_result"
    }
   ],
   "source": [
    "R.<x> = QQ['x'] # same as R.<x> = PolynomialRing(QQ)\n",
    "f = x^2+2*x+8\n",
    "g = x^3-8\n",
    "h = x+1\n",
    "print((g*h).gcd(f*h))\n",
    "euclides_pol(g*h,f*h)"
   ]
  },
  {
   "cell_type": "markdown",
   "metadata": {},
   "source": [
    "Example in $\\mathbb{F}_3[x]$   \n",
    "Let $f = x^{11} + 2x^{9} +2x^{8}+x^6 +x^5 +2x^3+2x^2+1 \\in \\mathbb{F}_3[x]$. Then, $gcd(f, f') = x^9+2x^6+x^3+2$.   \n",
    "(Source: <https://en.wikipedia.org/wiki/Factorization_of_polynomials_over_finite_fields#Example_of_a_square-free_factorization>)"
   ]
  },
  {
   "cell_type": "code",
   "execution_count": 9,
   "metadata": {},
   "outputs": [
    {
     "data": {
      "text/html": [
       "<html><script type=\"math/tex; mode=display\">\\newcommand{\\Bold}[1]{\\mathbf{#1}}x^{9} + 2 x^{6} + x^{3} + 2</script></html>"
      ],
      "text/plain": [
       "x^9 + 2*x^6 + x^3 + 2"
      ]
     },
     "execution_count": 9,
     "metadata": {},
     "output_type": "execute_result"
    }
   ],
   "source": [
    "R.<x> = GF(3)['x'] # Same as R.<x> = PolynomialRing(GF(3))\n",
    "f = x^11 + 2*x^9 +2*x^8+x^6 +x^5 +2*x^3+2*x^2+1\n",
    "fp = f.derivative()\n",
    "euclides_pol(f,fp)"
   ]
  },
  {
   "cell_type": "markdown",
   "metadata": {},
   "source": [
    "Example in $\\mathbb{Q}[x]$, $\\mathbb{F}_2[x]$, $\\mathbb{F}_3[x]$ and $\\mathbb{F}_5[x]$   \n",
    "(Source: <https://math.stackexchange.com/questions/360442/gcd-of-polynomials-over-gfp>)"
   ]
  },
  {
   "cell_type": "code",
   "execution_count": 10,
   "metadata": {},
   "outputs": [
    {
     "name": "stdout",
     "output_type": "stream",
     "text": [
      "gcd in Q[x] is  x - 2\n",
      "gcd in F2[x] is  x^2 + x\n",
      "gcd in F3[x] is  x + 1\n",
      "gcd in F5[x] is  x^2 + x + 4\n"
     ]
    }
   ],
   "source": [
    "R.<x> = PolynomialRing(QQ)\n",
    "f = (x^2+1)\n",
    "g = (x^3+7)\n",
    "h = (x-2)\n",
    "print(\"gcd in Q[x] is \"),\n",
    "print(euclides_pol(f*h,g*h))\n",
    "\n",
    "R.<x> = PolynomialRing(GF(2))\n",
    "f = (x^2+1)\n",
    "g = (x^3+7)\n",
    "h = (x-2)\n",
    "print(\"gcd in F2[x] is \"),\n",
    "print(euclides_pol(f*h,g*h))\n",
    "\n",
    "R.<x> = PolynomialRing(GF(3))\n",
    "f = (x^2+1)\n",
    "g = (x^3+7)\n",
    "h = (x-2)\n",
    "print(\"gcd in F3[x] is \"),\n",
    "print(euclides_pol(f*h,g*h))\n",
    "\n",
    "R.<x> = PolynomialRing(GF(5))\n",
    "f = (x^2+1)\n",
    "g = (x^3+7)\n",
    "h = (x-2)\n",
    "print(\"gcd in F5[x] is \"),\n",
    "print(euclides_pol(f*h,g*h))"
   ]
  },
  {
   "cell_type": "markdown",
   "metadata": {},
   "source": [
    "Example in $\\mathbb{F}_2[x]$   \n",
    "The polynomial $P = x^4 + 1$ is irreducible over $\\mathbb{Q}$ but not over any finite field. On any field extension of $\\mathbb{F}_2$, $P = (x+1)^4$\n",
    "(Source: <https://en.wikipedia.org/wiki/Factorization_of_polynomials_over_finite_fields#Example>)"
   ]
  },
  {
   "cell_type": "code",
   "execution_count": 24,
   "metadata": {},
   "outputs": [
    {
     "name": "stdout",
     "output_type": "stream",
     "text": [
      "gcd in Q[x] is  1\n",
      "gcd in F2[x] is  x + 1\n"
     ]
    }
   ],
   "source": [
    "R.<x> = PolynomialRing(QQ)\n",
    "p = (x^4+1)\n",
    "q = (x+1)*(x-2)\n",
    "print(\"gcd in Q[x] is \"),\n",
    "print(euclides_pol(p,q))\n",
    "\n",
    "R.<x> = PolynomialRing(GF(2))\n",
    "p = (x^4+1)\n",
    "q = (x+1)*(x-2)\n",
    "print(\"gcd in F2[x] is \"),\n",
    "print(euclides_pol(p,q)).factor()"
   ]
  },
  {
   "cell_type": "code",
   "execution_count": 11,
   "metadata": {},
   "outputs": [
    {
     "data": {
      "text/html": [
       "<html><script type=\"math/tex; mode=display\">\\newcommand{\\Bold}[1]{\\mathbf{#1}}\\Bold{F}_{5^{2}}[x]</script></html>"
      ],
      "text/plain": [
       "Univariate Polynomial Ring in x over Finite Field in a of size 5^2"
      ]
     },
     "execution_count": 11,
     "metadata": {},
     "output_type": "execute_result"
    }
   ],
   "source": [
    "# Test\n",
    "k.<a> = GF(25)\n",
    "R.<x> = PolynomialRing(k); R"
   ]
  },
  {
   "cell_type": "code",
   "execution_count": 10,
   "metadata": {},
   "outputs": [
    {
     "name": "stdout",
     "output_type": "stream",
     "text": [
      "1\n"
     ]
    },
    {
     "data": {
      "text/html": [
       "<html><script type=\"math/tex; mode=display\">\\newcommand{\\Bold}[1]{\\mathbf{#1}}1</script></html>"
      ],
      "text/plain": [
       "1"
      ]
     },
     "execution_count": 10,
     "metadata": {},
     "output_type": "execute_result"
    }
   ],
   "source": [
    "F8.<a> = GF(8); F8\n",
    "R.<x> = F8['x']; R\n",
    "# Univariate Polynomial Ring in x over Finite Field in a of size 2^3\n",
    "f = x^2*a + x^3*a^2 + 5*x^5*a^3; f\n",
    "g = 3*x^3*a+a^2; g\n",
    "h = a^2*x^2; h\n",
    "# Correct??\n",
    "print(gcd(f*h+1,g*h-1))\n",
    "euclides_pol(f*h+1,g*h-1)"
   ]
  },
  {
   "cell_type": "markdown",
   "metadata": {},
   "source": [
    "# Euclidean algorithm for Gaussian integers, $\\mathbb{Z}[i]$"
   ]
  },
  {
   "cell_type": "code",
   "execution_count": 26,
   "metadata": {},
   "outputs": [],
   "source": [
    "def divide_gaussian_integers(z, d):\n",
    "    r,q = z, 0\n",
    "    # which real way to step?\n",
    "    if norm(r - d) < norm(r):\n",
    "        s = 1\n",
    "    else:\n",
    "        s = -1\n",
    "    # loop to step\n",
    "    while norm(r - s*d) < norm(r):\n",
    "        q = q + s\n",
    "        r = r - s*d\n",
    "    # which imaginary way to step?\n",
    "    if norm(r - I*d) < norm(r):\n",
    "        s = I\n",
    "    else:\n",
    "        s = -I\n",
    "    # loop to step\n",
    "    while norm(r - s*d) < norm(r):\n",
    "        q = q + s\n",
    "        r = r - s*d\n",
    "    return q, r"
   ]
  },
  {
   "cell_type": "code",
   "execution_count": 34,
   "metadata": {},
   "outputs": [],
   "source": [
    "# Euclidean algorithm for integers - ZZ and ZZp\n",
    "def euclides_gauss(a, b):\n",
    "    c = a\n",
    "    d = b\n",
    "    while(d != 0):\n",
    "        q, r = divide_gaussian_integers(c, d)\n",
    "        c = d\n",
    "        d = r\n",
    "    return c"
   ]
  },
  {
   "cell_type": "markdown",
   "metadata": {},
   "source": [
    "**Example** from <https://math.stackexchange.com/questions/82350/gcd-of-gaussian-integers>"
   ]
  },
  {
   "cell_type": "code",
   "execution_count": 28,
   "metadata": {},
   "outputs": [
    {
     "name": "stdout",
     "output_type": "stream",
     "text": [
      "1\n"
     ]
    },
    {
     "data": {
      "text/html": [
       "<html><script type=\"math/tex; mode=display\">\\newcommand{\\Bold}[1]{\\mathbf{#1}}1</script></html>"
      ],
      "text/plain": [
       "1"
      ]
     },
     "execution_count": 28,
     "metadata": {},
     "output_type": "execute_result"
    }
   ],
   "source": [
    "ZZI.<I> = GaussianIntegers() # Return the ring of Gaussian integers\n",
    "a = 11+7*I\n",
    "b = 18-1*I\n",
    "print(gcd(a,b))\n",
    "euclides_gauss(a,b)"
   ]
  },
  {
   "cell_type": "markdown",
   "metadata": {},
   "source": [
    "**Example** from <http://mathforum.org/library/drmath/view/67068.html>"
   ]
  },
  {
   "cell_type": "code",
   "execution_count": 29,
   "metadata": {
    "scrolled": true
   },
   "outputs": [
    {
     "name": "stdout",
     "output_type": "stream",
     "text": [
      "5*I - 12\n"
     ]
    },
    {
     "data": {
      "text/html": [
       "<html><script type=\"math/tex; mode=display\">\\newcommand{\\Bold}[1]{\\mathbf{#1}}12 I + 5</script></html>"
      ],
      "text/plain": [
       "12*I + 5"
      ]
     },
     "execution_count": 29,
     "metadata": {},
     "output_type": "execute_result"
    }
   ],
   "source": [
    "ZZI.<I> = GaussianIntegers() # Return the ring of Gaussian integers\n",
    "a = 135 - 14*I\n",
    "b = 155 + 34*I\n",
    "print(gcd(a,b))\n",
    "euclides_gauss(a,b)"
   ]
  },
  {
   "cell_type": "markdown",
   "metadata": {},
   "source": [
    "# Extended Euclidean algorithm for integers: $\\mathbb{Z}, \\mathbb{Z}_p$"
   ]
  },
  {
   "cell_type": "code",
   "execution_count": 30,
   "metadata": {},
   "outputs": [],
   "source": [
    "# Extended Euclidean algorithm for integers - ZZ, ZZp\n",
    "def extEuclides_int(a, b, p=1):\n",
    "    if(p==1):\n",
    "        p = a+b\n",
    "    x1, y1, x2, y2 = 1, 0, 0, 1\n",
    "    u, v = a%p, b%p\n",
    "    while u!=0:\n",
    "        q, r = v.quo_rem(u)\n",
    "        x = (x2-q*x1)\n",
    "        y = (y2-q*y1)\n",
    "        v, x2, y2 = u, x1, y1\n",
    "        u, x1, y1 = r, x, y\n",
    "    d = v\n",
    "    x = x2\n",
    "    y = y2\n",
    "    return (d, x, y)"
   ]
  },
  {
   "cell_type": "code",
   "execution_count": 31,
   "metadata": {},
   "outputs": [
    {
     "name": "stdout",
     "output_type": "stream",
     "text": [
      "(12, 1, 0)\n"
     ]
    },
    {
     "data": {
      "text/html": [
       "<html><script type=\"math/tex; mode=display\">\\newcommand{\\Bold}[1]{\\mathbf{#1}}\\left(12, 1, 0\\right)</script></html>"
      ],
      "text/plain": [
       "(12, 1, 0)"
      ]
     },
     "execution_count": 31,
     "metadata": {},
     "output_type": "execute_result"
    }
   ],
   "source": [
    "a, b = 12, 97*12\n",
    "# gcd = a*x + b*y\n",
    "print(xgcd(a, b))\n",
    "extEuclides_int(a, b)"
   ]
  },
  {
   "cell_type": "code",
   "execution_count": 32,
   "metadata": {
    "scrolled": false
   },
   "outputs": [
    {
     "name": "stdout",
     "output_type": "stream",
     "text": [
      "(1, 1, -2)\n"
     ]
    },
    {
     "data": {
      "text/html": [
       "<html><script type=\"math/tex; mode=display\">\\newcommand{\\Bold}[1]{\\mathbf{#1}}\\left(1, 1, -2\\right)</script></html>"
      ],
      "text/plain": [
       "(1, 1, -2)"
      ]
     },
     "execution_count": 32,
     "metadata": {},
     "output_type": "execute_result"
    }
   ],
   "source": [
    "print(xgcd(a%7, b%7))\n",
    "extEuclides_int(a, b, 7)"
   ]
  }
 ],
 "metadata": {
  "kernelspec": {
   "display_name": "SageMath 8.4",
   "language": "",
   "name": "sagemath"
  },
  "language_info": {
   "codemirror_mode": {
    "name": "ipython",
    "version": 2
   },
   "file_extension": ".py",
   "mimetype": "text/x-python",
   "name": "python",
   "nbconvert_exporter": "python",
   "pygments_lexer": "ipython2",
   "version": "2.7.15"
  }
 },
 "nbformat": 4,
 "nbformat_minor": 2
}
