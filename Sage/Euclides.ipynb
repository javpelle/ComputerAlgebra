{
 "cells": [
  {
   "cell_type": "code",
   "execution_count": 20,
   "metadata": {},
   "outputs": [],
   "source": [
    "%display latex"
   ]
  },
  {
   "cell_type": "code",
   "execution_count": null,
   "metadata": {},
   "outputs": [],
   "source": [
    "def euclides(a, b):\n",
    "    if (b == 0):\n",
    "        return a\n",
    "    else:\n",
    "        return euclides (b, (a % b))"
   ]
  },
  {
   "cell_type": "code",
   "execution_count": 22,
   "metadata": {},
   "outputs": [],
   "source": [
    "# Algoritmo extendido de Euclides para un DE cualquiera\n",
    "def extendedEuclides(a, b):\n",
    "    if (b == 0):\n",
    "        return a, 1, 0 \n",
    "    else:\n",
    "        q, r = a.quo_rem(b)\n",
    "        c, d, e = extendedEuclides(b, r)\n",
    "        return c, e, (d -q * e)"
   ]
  },
  {
   "cell_type": "code",
   "execution_count": 21,
   "metadata": {
    "scrolled": true
   },
   "outputs": [
    {
     "data": {
      "text/plain": [
       "(1.00000000000000, 2.00000000000000*x + 2.00000000000000)"
      ]
     },
     "execution_count": 21,
     "metadata": {},
     "output_type": "execute_result"
    }
   ],
   "source": [
    "extendedEuclides(55, 22)\n",
    "R.<x> = RR[x]\n",
    "(x^2 +2*x + 1).quo_rem(x^2 - 1)"
   ]
  }
 ],
 "metadata": {
  "kernelspec": {
   "display_name": "SageMath 8.4",
   "language": "",
   "name": "sagemath"
  },
  "language_info": {
   "codemirror_mode": {
    "name": "ipython",
    "version": 2
   },
   "file_extension": ".py",
   "mimetype": "text/x-python",
   "name": "python",
   "nbconvert_exporter": "python",
   "pygments_lexer": "ipython2",
   "version": "2.7.15"
  }
 },
 "nbformat": 4,
 "nbformat_minor": 2
}
