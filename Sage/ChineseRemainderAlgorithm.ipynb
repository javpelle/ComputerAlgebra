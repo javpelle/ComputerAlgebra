{
 "cells": [
  {
   "cell_type": "code",
   "execution_count": 8,
   "metadata": {},
   "outputs": [],
   "source": [
    "def extendedEuclides(a, b):\n",
    "    if (b == 0):\n",
    "        return a, 1, 0 \n",
    "    else:\n",
    "        q = a // b\n",
    "        r = a % b\n",
    "        c, d, e = extendedEuclides(b, r)\n",
    "        return c, e, (d -q * e)"
   ]
  },
  {
   "cell_type": "code",
   "execution_count": 9,
   "metadata": {},
   "outputs": [],
   "source": [
    "%display latex"
   ]
  },
  {
   "cell_type": "code",
   "execution_count": 20,
   "metadata": {},
   "outputs": [],
   "source": [
    "def chineseReminder(coprimes, elems):\n",
    "    if (len(coprimes) == len(elems)):\n",
    "        m = coprimes[0]\n",
    "        for x in range (1, len(coprimes)):\n",
    "            m = m * coprimes[x]\n",
    "        result = 0\n",
    "        for x in range (0, len(coprimes)):\n",
    "            q = m // coprimes[x]\n",
    "            print(q, coprimes[x])\n",
    "            mcd, s, t = extendedEuclides(q, coprimes[x])\n",
    "            print(mcd, s, t)\n",
    "            r = (s * elems[x]) % (coprimes[x])\n",
    "            print (s,r)\n",
    "            result = result + r * q\n",
    "        return result"
   ]
  },
  {
   "cell_type": "code",
   "execution_count": 21,
   "metadata": {},
   "outputs": [
    {
     "name": "stdout",
     "output_type": "stream",
     "text": [
      "(35, 3)\n",
      "(1, -1, 12)\n",
      "(-1, 2)\n",
      "(21, 5)\n",
      "(1, 1, -4)\n",
      "(1, 0)\n",
      "(15, 7)\n",
      "(1, 1, -2)\n",
      "(1, 5)\n"
     ]
    },
    {
     "data": {
      "text/html": [
       "<html><script type=\"math/tex; mode=display\">\\newcommand{\\Bold}[1]{\\mathbf{#1}}145</script></html>"
      ],
      "text/plain": [
       "145"
      ]
     },
     "execution_count": 21,
     "metadata": {},
     "output_type": "execute_result"
    }
   ],
   "source": [
    "\n",
    "chineseReminder([3,5,7],[4,5, 33])"
   ]
  }
 ],
 "metadata": {
  "kernelspec": {
   "display_name": "SageMath 8.1",
   "language": "",
   "name": "sagemath"
  },
  "language_info": {
   "codemirror_mode": {
    "name": "ipython",
    "version": 2
   },
   "file_extension": ".py",
   "mimetype": "text/x-python",
   "name": "python",
   "nbconvert_exporter": "python",
   "pygments_lexer": "ipython2",
   "version": "2.7.15rc1"
  }
 },
 "nbformat": 4,
 "nbformat_minor": 2
}
