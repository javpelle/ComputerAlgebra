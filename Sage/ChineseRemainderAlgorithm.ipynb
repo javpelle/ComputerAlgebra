{
 "cells": [
  {
   "cell_type": "code",
   "execution_count": 28,
   "metadata": {},
   "outputs": [],
   "source": [
    "def extendedEuclides(a, b):\n",
    "    if (b == 0):\n",
    "        return a, 1, 0 \n",
    "    else:\n",
    "        q = a.quo_rem(b)\n",
    "        r = a % b\n",
    "        c, d, e = extendedEuclides(b, r)\n",
    "        return c, e, (d -q * e)"
   ]
  },
  {
   "cell_type": "code",
   "execution_count": 29,
   "metadata": {},
   "outputs": [],
   "source": [
    "%display latex"
   ]
  },
  {
   "cell_type": "code",
   "execution_count": 87,
   "metadata": {},
   "outputs": [],
   "source": [
    "def chineseReminder(coprimes, elems):\n",
    "    if (len(coprimes) == len(elems)):\n",
    "        m = coprimes[0]\n",
    "        for x in range (1, len(coprimes)):\n",
    "            m = m * coprimes[x]\n",
    "        result = 0\n",
    "        for x in range (0, len(coprimes)):\n",
    "            q = m / coprimes[x]\n",
    "            print(q, coprimes[x])\n",
    "            mcd, s, t = extendedEuclides(q, coprimes[x])\n",
    "            print(mcd, s, t)\n",
    "            r = (s * elems[x]) % (coprimes[x])\n",
    "            print (s,r)\n",
    "            result = result + r * q\n",
    "        return result"
   ]
  },
  {
   "cell_type": "code",
   "execution_count": 88,
   "metadata": {},
   "outputs": [
    {
     "name": "stdout",
     "output_type": "stream",
     "text": [
      "(35, 3)\n",
      "(3, 0, 1)\n",
      "(0, 0)\n",
      "(21, 5)\n",
      "(5, 0, 1)\n",
      "(0, 0)\n",
      "(15, 7)\n",
      "(7, 0, 1)\n",
      "(0, 0)\n"
     ]
    },
    {
     "data": {
      "text/html": [
       "<html><script type=\"math/tex; mode=display\">\\newcommand{\\Bold}[1]{\\mathbf{#1}}0</script></html>"
      ],
      "text/plain": [
       "0"
      ]
     },
     "execution_count": 88,
     "metadata": {},
     "output_type": "execute_result"
    }
   ],
   "source": [
    "\n",
    "chineseReminder([3,5,7],[4,5, 33])"
   ]
  },
  {
   "cell_type": "code",
   "execution_count": 74,
   "metadata": {},
   "outputs": [
    {
     "data": {
      "text/html": [
       "<html><script type=\"math/tex; mode=display\">\\newcommand{\\Bold}[1]{\\mathbf{#1}}\\frac{3}{2}</script></html>"
      ],
      "text/plain": [
       "3/2"
      ]
     },
     "execution_count": 74,
     "metadata": {},
     "output_type": "execute_result"
    }
   ],
   "source": [
    "Integer(3)/Integer(2)"
   ]
  },
  {
   "cell_type": "code",
   "execution_count": null,
   "metadata": {},
   "outputs": [],
   "source": []
  }
 ],
 "metadata": {
  "kernelspec": {
   "display_name": "SageMath 8.4",
   "language": "",
   "name": "sagemath"
  },
  "language_info": {
   "codemirror_mode": {
    "name": "ipython",
    "version": 2
   },
   "file_extension": ".py",
   "mimetype": "text/x-python",
   "name": "python",
   "nbconvert_exporter": "python",
   "pygments_lexer": "ipython2",
   "version": "2.7.15"
  }
 },
 "nbformat": 4,
 "nbformat_minor": 2
}
